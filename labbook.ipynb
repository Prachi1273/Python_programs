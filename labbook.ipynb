{
  "metadata": {
    "language_info": {
      "codemirror_mode": {
        "name": "python",
        "version": 3
      },
      "file_extension": ".py",
      "mimetype": "text/x-python",
      "name": "python",
      "nbconvert_exporter": "python",
      "pygments_lexer": "ipython3",
      "version": "3.8"
    },
    "kernelspec": {
      "name": "python",
      "display_name": "Python (Pyodide)",
      "language": "python"
    }
  },
  "nbformat_minor": 4,
  "nbformat": 4,
  "cells": [
    {
      "cell_type": "code",
      "source": "a=36",
      "metadata": {
        "trusted": true
      },
      "execution_count": 1,
      "outputs": []
    },
    {
      "cell_type": "code",
      "source": "print(type(a))",
      "metadata": {
        "trusted": true
      },
      "execution_count": 2,
      "outputs": [
        {
          "name": "stdout",
          "text": "<class 'int'>\n",
          "output_type": "stream"
        }
      ]
    },
    {
      "cell_type": "code",
      "source": "b=3+2j",
      "metadata": {
        "trusted": true
      },
      "execution_count": 3,
      "outputs": []
    },
    {
      "cell_type": "code",
      "source": "print(type(b))",
      "metadata": {
        "trusted": true
      },
      "execution_count": 4,
      "outputs": [
        {
          "name": "stdout",
          "text": "<class 'complex'>\n",
          "output_type": "stream"
        }
      ]
    },
    {
      "cell_type": "code",
      "source": "c=3.24",
      "metadata": {
        "trusted": true
      },
      "execution_count": 5,
      "outputs": []
    },
    {
      "cell_type": "code",
      "source": "print(type(c))",
      "metadata": {
        "trusted": true
      },
      "execution_count": 6,
      "outputs": [
        {
          "name": "stdout",
          "text": "<class 'float'>\n",
          "output_type": "stream"
        }
      ]
    },
    {
      "cell_type": "code",
      "source": "d=\"python\"",
      "metadata": {
        "trusted": true
      },
      "execution_count": 8,
      "outputs": []
    },
    {
      "cell_type": "raw",
      "source": "",
      "metadata": {}
    },
    {
      "cell_type": "code",
      "source": "print(type(d))",
      "metadata": {
        "trusted": true
      },
      "execution_count": 9,
      "outputs": [
        {
          "name": "stdout",
          "text": "<class 'str'>\n",
          "output_type": "stream"
        }
      ]
    },
    {
      "cell_type": "code",
      "source": "e=[1,2,3,4,5]",
      "metadata": {
        "trusted": true
      },
      "execution_count": 10,
      "outputs": []
    },
    {
      "cell_type": "code",
      "source": "print(type(e))",
      "metadata": {
        "trusted": true
      },
      "execution_count": 11,
      "outputs": [
        {
          "name": "stdout",
          "text": "<class 'list'>\n",
          "output_type": "stream"
        }
      ]
    },
    {
      "cell_type": "code",
      "source": "21==15",
      "metadata": {
        "trusted": true
      },
      "execution_count": 12,
      "outputs": [
        {
          "execution_count": 12,
          "output_type": "execute_result",
          "data": {
            "text/plain": "False"
          },
          "metadata": {}
        }
      ]
    },
    {
      "cell_type": "code",
      "source": "4!=5",
      "metadata": {
        "trusted": true
      },
      "execution_count": 13,
      "outputs": [
        {
          "execution_count": 13,
          "output_type": "execute_result",
          "data": {
            "text/plain": "True"
          },
          "metadata": {}
        }
      ]
    },
    {
      "cell_type": "code",
      "source": "10<=15",
      "metadata": {
        "trusted": true
      },
      "execution_count": 14,
      "outputs": [
        {
          "execution_count": 14,
          "output_type": "execute_result",
          "data": {
            "text/plain": "True"
          },
          "metadata": {}
        }
      ]
    },
    {
      "cell_type": "code",
      "source": "import math",
      "metadata": {
        "trusted": true
      },
      "execution_count": 15,
      "outputs": []
    },
    {
      "cell_type": "code",
      "source": "log = math.log10(10)",
      "metadata": {
        "trusted": true
      },
      "execution_count": 16,
      "outputs": []
    },
    {
      "cell_type": "code",
      "source": "print(\"log10(10)=\",log)",
      "metadata": {
        "trusted": true
      },
      "execution_count": 17,
      "outputs": [
        {
          "name": "stdout",
          "text": "log10(10)= 1.0\n",
          "output_type": "stream"
        }
      ]
    },
    {
      "cell_type": "code",
      "source": "sin30=math.sin(math.pi/6)",
      "metadata": {
        "trusted": true
      },
      "execution_count": 18,
      "outputs": []
    },
    {
      "cell_type": "code",
      "source": "print(sin30)",
      "metadata": {
        "trusted": true
      },
      "execution_count": 19,
      "outputs": [
        {
          "name": "stdout",
          "text": "0.49999999999999994\n",
          "output_type": "stream"
        }
      ]
    },
    {
      "cell_type": "code",
      "source": "pi=math.pi",
      "metadata": {
        "trusted": true
      },
      "execution_count": 20,
      "outputs": []
    },
    {
      "cell_type": "code",
      "source": "print(pi)",
      "metadata": {
        "trusted": true
      },
      "execution_count": 21,
      "outputs": [
        {
          "name": "stdout",
          "text": "3.141592653589793\n",
          "output_type": "stream"
        }
      ]
    },
    {
      "cell_type": "code",
      "source": "e=math.e",
      "metadata": {
        "trusted": true
      },
      "execution_count": 22,
      "outputs": []
    },
    {
      "cell_type": "code",
      "source": "print(e)",
      "metadata": {
        "trusted": true
      },
      "execution_count": 23,
      "outputs": [
        {
          "name": "stdout",
          "text": "2.718281828459045\n",
          "output_type": "stream"
        }
      ]
    },
    {
      "cell_type": "code",
      "source": "a=2+3j",
      "metadata": {
        "trusted": true
      },
      "execution_count": 26,
      "outputs": []
    },
    {
      "cell_type": "code",
      "source": "print(e)",
      "metadata": {
        "trusted": true
      },
      "execution_count": 27,
      "outputs": [
        {
          "name": "stdout",
          "text": "2.718281828459045\n",
          "output_type": "stream"
        }
      ]
    },
    {
      "cell_type": "code",
      "source": "string=\"mango\"",
      "metadata": {
        "trusted": true
      },
      "execution_count": 28,
      "outputs": []
    },
    {
      "cell_type": "code",
      "source": "for char in string:\n    print(char)",
      "metadata": {
        "trusted": true
      },
      "execution_count": 30,
      "outputs": [
        {
          "name": "stdout",
          "text": "m\na\nn\ng\no\n",
          "output_type": "stream"
        }
      ]
    },
    {
      "cell_type": "code",
      "source": "x=\"Good Morning \"\ny=\"to all \"",
      "metadata": {
        "trusted": true
      },
      "execution_count": 31,
      "outputs": []
    },
    {
      "cell_type": "code",
      "source": "print(2*x+y)",
      "metadata": {
        "trusted": true
      },
      "execution_count": 32,
      "outputs": [
        {
          "name": "stdout",
          "text": "Good Morning Good Morning to all \n",
          "output_type": "stream"
        }
      ]
    },
    {
      "cell_type": "code",
      "source": "print(3*x)",
      "metadata": {
        "trusted": true
      },
      "execution_count": 33,
      "outputs": [
        {
          "name": "stdout",
          "text": "Good Morning Good Morning Good Morning \n",
          "output_type": "stream"
        }
      ]
    },
    {
      "cell_type": "code",
      "source": "print(4*y)",
      "metadata": {
        "trusted": true
      },
      "execution_count": 34,
      "outputs": [
        {
          "name": "stdout",
          "text": "to all to all to all to all \n",
          "output_type": "stream"
        }
      ]
    },
    {
      "cell_type": "code",
      "source": "s=[1,2,3,4]\nt=[5,6,7,8,9]",
      "metadata": {
        "trusted": true
      },
      "execution_count": 35,
      "outputs": []
    },
    {
      "cell_type": "code",
      "source": "s+t",
      "metadata": {
        "trusted": true
      },
      "execution_count": 36,
      "outputs": [
        {
          "execution_count": 36,
          "output_type": "execute_result",
          "data": {
            "text/plain": "[1, 2, 3, 4, 5, 6, 7, 8, 9]"
          },
          "metadata": {}
        }
      ]
    },
    {
      "cell_type": "code",
      "source": "s*4",
      "metadata": {
        "trusted": true
      },
      "execution_count": 37,
      "outputs": [
        {
          "execution_count": 37,
          "output_type": "execute_result",
          "data": {
            "text/plain": "[1, 2, 3, 4, 1, 2, 3, 4, 1, 2, 3, 4, 1, 2, 3, 4]"
          },
          "metadata": {}
        }
      ]
    },
    {
      "cell_type": "code",
      "source": "t*3",
      "metadata": {
        "trusted": true
      },
      "execution_count": 38,
      "outputs": [
        {
          "execution_count": 38,
          "output_type": "execute_result",
          "data": {
            "text/plain": "[5, 6, 7, 8, 9, 5, 6, 7, 8, 9, 5, 6, 7, 8, 9]"
          },
          "metadata": {}
        }
      ]
    },
    {
      "cell_type": "code",
      "source": "s+t*2",
      "metadata": {
        "trusted": true
      },
      "execution_count": 39,
      "outputs": [
        {
          "execution_count": 39,
          "output_type": "execute_result",
          "data": {
            "text/plain": "[1, 2, 3, 4, 5, 6, 7, 8, 9, 5, 6, 7, 8, 9]"
          },
          "metadata": {}
        }
      ]
    },
    {
      "cell_type": "code",
      "source": "tuple1=(44,11,66,22,33,55)",
      "metadata": {
        "trusted": true
      },
      "execution_count": 40,
      "outputs": []
    },
    {
      "cell_type": "code",
      "source": "tuple(sorted(list(tuple1)))",
      "metadata": {
        "trusted": true
      },
      "execution_count": 41,
      "outputs": [
        {
          "execution_count": 41,
          "output_type": "execute_result",
          "data": {
            "text/plain": "(11, 22, 33, 44, 55, 66)"
          },
          "metadata": {}
        }
      ]
    },
    {
      "cell_type": "code",
      "source": "tuple2=(51,101,20,111,21,201)",
      "metadata": {
        "trusted": true
      },
      "execution_count": 42,
      "outputs": []
    },
    {
      "cell_type": "code",
      "source": "tuple(sorted(list(tuple2)))",
      "metadata": {
        "trusted": true
      },
      "execution_count": 43,
      "outputs": [
        {
          "execution_count": 43,
          "output_type": "execute_result",
          "data": {
            "text/plain": "(20, 21, 51, 101, 111, 201)"
          },
          "metadata": {}
        }
      ]
    },
    {
      "cell_type": "code",
      "source": "tuple3=(9,3,6,2,8,5,1,7,4)",
      "metadata": {
        "trusted": true
      },
      "execution_count": 44,
      "outputs": []
    },
    {
      "cell_type": "code",
      "source": "tuple(sorted(list(tuple3)))",
      "metadata": {
        "trusted": true
      },
      "execution_count": 45,
      "outputs": [
        {
          "execution_count": 45,
          "output_type": "execute_result",
          "data": {
            "text/plain": "(1, 2, 3, 4, 5, 6, 7, 8, 9)"
          },
          "metadata": {}
        }
      ]
    },
    {
      "cell_type": "code",
      "source": "z=\"mango\"",
      "metadata": {
        "trusted": true
      },
      "execution_count": 48,
      "outputs": []
    },
    {
      "cell_type": "code",
      "source": "len(z)",
      "metadata": {
        "trusted": true
      },
      "execution_count": 49,
      "outputs": [
        {
          "execution_count": 49,
          "output_type": "execute_result",
          "data": {
            "text/plain": "5"
          },
          "metadata": {}
        }
      ]
    },
    {
      "cell_type": "code",
      "source": "z[2:3]",
      "metadata": {
        "trusted": true
      },
      "execution_count": 50,
      "outputs": [
        {
          "execution_count": 50,
          "output_type": "execute_result",
          "data": {
            "text/plain": "'n'"
          },
          "metadata": {}
        }
      ]
    },
    {
      "cell_type": "code",
      "source": "z[:4]",
      "metadata": {
        "trusted": true
      },
      "execution_count": 51,
      "outputs": [
        {
          "execution_count": 51,
          "output_type": "execute_result",
          "data": {
            "text/plain": "'mang'"
          },
          "metadata": {}
        }
      ]
    },
    {
      "cell_type": "code",
      "source": "z[2:]",
      "metadata": {
        "trusted": true
      },
      "execution_count": 52,
      "outputs": [
        {
          "execution_count": 52,
          "output_type": "execute_result",
          "data": {
            "text/plain": "'ngo'"
          },
          "metadata": {}
        }
      ]
    },
    {
      "cell_type": "code",
      "source": "z[:]",
      "metadata": {
        "trusted": true
      },
      "execution_count": 53,
      "outputs": [
        {
          "execution_count": 53,
          "output_type": "execute_result",
          "data": {
            "text/plain": "'mango'"
          },
          "metadata": {}
        }
      ]
    },
    {
      "cell_type": "code",
      "source": "p=\"prachi\"",
      "metadata": {
        "trusted": true
      },
      "execution_count": 54,
      "outputs": []
    },
    {
      "cell_type": "code",
      "source": "len(p)",
      "metadata": {
        "trusted": true
      },
      "execution_count": 55,
      "outputs": [
        {
          "execution_count": 55,
          "output_type": "execute_result",
          "data": {
            "text/plain": "6"
          },
          "metadata": {}
        }
      ]
    },
    {
      "cell_type": "code",
      "source": "p[2:3]",
      "metadata": {
        "trusted": true
      },
      "execution_count": 58,
      "outputs": [
        {
          "execution_count": 58,
          "output_type": "execute_result",
          "data": {
            "text/plain": "'a'"
          },
          "metadata": {}
        }
      ]
    },
    {
      "cell_type": "code",
      "source": "p[:3]",
      "metadata": {
        "trusted": true
      },
      "execution_count": 59,
      "outputs": [
        {
          "execution_count": 59,
          "output_type": "execute_result",
          "data": {
            "text/plain": "'pra'"
          },
          "metadata": {}
        }
      ]
    },
    {
      "cell_type": "code",
      "source": "p[1:]",
      "metadata": {
        "trusted": true
      },
      "execution_count": 60,
      "outputs": [
        {
          "execution_count": 60,
          "output_type": "execute_result",
          "data": {
            "text/plain": "'rachi'"
          },
          "metadata": {}
        }
      ]
    },
    {
      "cell_type": "code",
      "source": "p[:]",
      "metadata": {
        "trusted": true
      },
      "execution_count": 61,
      "outputs": [
        {
          "execution_count": 61,
          "output_type": "execute_result",
          "data": {
            "text/plain": "'prachi'"
          },
          "metadata": {}
        }
      ]
    },
    {
      "cell_type": "code",
      "source": "s=\"suvarnabarve\"",
      "metadata": {
        "trusted": true
      },
      "execution_count": 62,
      "outputs": []
    },
    {
      "cell_type": "code",
      "source": "len(s)",
      "metadata": {
        "trusted": true
      },
      "execution_count": 63,
      "outputs": [
        {
          "execution_count": 63,
          "output_type": "execute_result",
          "data": {
            "text/plain": "12"
          },
          "metadata": {}
        }
      ]
    },
    {
      "cell_type": "code",
      "source": "s[3:4]",
      "metadata": {
        "trusted": true
      },
      "execution_count": 64,
      "outputs": [
        {
          "execution_count": 64,
          "output_type": "execute_result",
          "data": {
            "text/plain": "'a'"
          },
          "metadata": {}
        }
      ]
    },
    {
      "cell_type": "code",
      "source": "s[:5]",
      "metadata": {
        "trusted": true
      },
      "execution_count": 65,
      "outputs": [
        {
          "execution_count": 65,
          "output_type": "execute_result",
          "data": {
            "text/plain": "'suvar'"
          },
          "metadata": {}
        }
      ]
    },
    {
      "cell_type": "code",
      "source": "s[9:]",
      "metadata": {
        "trusted": true
      },
      "execution_count": 66,
      "outputs": [
        {
          "execution_count": 66,
          "output_type": "execute_result",
          "data": {
            "text/plain": "'rve'"
          },
          "metadata": {}
        }
      ]
    },
    {
      "cell_type": "code",
      "source": "s[:]",
      "metadata": {
        "trusted": true
      },
      "execution_count": 67,
      "outputs": [
        {
          "execution_count": 67,
          "output_type": "execute_result",
          "data": {
            "text/plain": "'suvarnabarve'"
          },
          "metadata": {}
        }
      ]
    },
    {
      "cell_type": "code",
      "source": "s[5:7]",
      "metadata": {
        "trusted": true
      },
      "execution_count": 68,
      "outputs": [
        {
          "execution_count": 68,
          "output_type": "execute_result",
          "data": {
            "text/plain": "'na'"
          },
          "metadata": {}
        }
      ]
    },
    {
      "cell_type": "code",
      "source": "diag(4,7,8)",
      "metadata": {
        "trusted": true
      },
      "execution_count": 69,
      "outputs": [
        {
          "ename": "<class 'NameError'>",
          "evalue": "name 'diag' is not defined",
          "traceback": [
            "\u001b[0;31m---------------------------------------------------------------------------\u001b[0m",
            "\u001b[0;31mNameError\u001b[0m                                 Traceback (most recent call last)",
            "Cell \u001b[0;32mIn[69], line 1\u001b[0m\n\u001b[0;32m----> 1\u001b[0m \u001b[43mdiag\u001b[49m(\u001b[38;5;241m4\u001b[39m,\u001b[38;5;241m7\u001b[39m,\u001b[38;5;241m8\u001b[39m)\n",
            "\u001b[0;31mNameError\u001b[0m: name 'diag' is not defined"
          ],
          "output_type": "error"
        }
      ]
    },
    {
      "cell_type": "code",
      "source": "from sympy import*",
      "metadata": {
        "trusted": true
      },
      "execution_count": 70,
      "outputs": []
    },
    {
      "cell_type": "code",
      "source": "diag(4,7,8)",
      "metadata": {
        "trusted": true
      },
      "execution_count": 71,
      "outputs": [
        {
          "execution_count": 71,
          "output_type": "execute_result",
          "data": {
            "text/plain": "Matrix([\n[4, 0, 0],\n[0, 7, 0],\n[0, 0, 8]])",
            "text/latex": "$\\displaystyle \\left[\\begin{matrix}4 & 0 & 0\\\\0 & 7 & 0\\\\0 & 0 & 8\\end{matrix}\\right]$"
          },
          "metadata": {}
        }
      ]
    },
    {
      "cell_type": "code",
      "source": "diag(2,3,6,9)",
      "metadata": {
        "trusted": true
      },
      "execution_count": 72,
      "outputs": [
        {
          "execution_count": 72,
          "output_type": "execute_result",
          "data": {
            "text/plain": "Matrix([\n[2, 0, 0, 0],\n[0, 3, 0, 0],\n[0, 0, 6, 0],\n[0, 0, 0, 9]])",
            "text/latex": "$\\displaystyle \\left[\\begin{matrix}2 & 0 & 0 & 0\\\\0 & 3 & 0 & 0\\\\0 & 0 & 6 & 0\\\\0 & 0 & 0 & 9\\end{matrix}\\right]$"
          },
          "metadata": {}
        }
      ]
    },
    {
      "cell_type": "code",
      "source": "eye(7)",
      "metadata": {
        "trusted": true
      },
      "execution_count": 73,
      "outputs": [
        {
          "execution_count": 73,
          "output_type": "execute_result",
          "data": {
            "text/plain": "Matrix([\n[1, 0, 0, 0, 0, 0, 0],\n[0, 1, 0, 0, 0, 0, 0],\n[0, 0, 1, 0, 0, 0, 0],\n[0, 0, 0, 1, 0, 0, 0],\n[0, 0, 0, 0, 1, 0, 0],\n[0, 0, 0, 0, 0, 1, 0],\n[0, 0, 0, 0, 0, 0, 1]])",
            "text/latex": "$\\displaystyle \\left[\\begin{matrix}1 & 0 & 0 & 0 & 0 & 0 & 0\\\\0 & 1 & 0 & 0 & 0 & 0 & 0\\\\0 & 0 & 1 & 0 & 0 & 0 & 0\\\\0 & 0 & 0 & 1 & 0 & 0 & 0\\\\0 & 0 & 0 & 0 & 1 & 0 & 0\\\\0 & 0 & 0 & 0 & 0 & 1 & 0\\\\0 & 0 & 0 & 0 & 0 & 0 & 1\\end{matrix}\\right]$"
          },
          "metadata": {}
        }
      ]
    },
    {
      "cell_type": "code",
      "source": "eye(11)",
      "metadata": {
        "trusted": true
      },
      "execution_count": 74,
      "outputs": [
        {
          "execution_count": 74,
          "output_type": "execute_result",
          "data": {
            "text/plain": "Matrix([\n[1, 0, 0, 0, 0, 0, 0, 0, 0, 0, 0],\n[0, 1, 0, 0, 0, 0, 0, 0, 0, 0, 0],\n[0, 0, 1, 0, 0, 0, 0, 0, 0, 0, 0],\n[0, 0, 0, 1, 0, 0, 0, 0, 0, 0, 0],\n[0, 0, 0, 0, 1, 0, 0, 0, 0, 0, 0],\n[0, 0, 0, 0, 0, 1, 0, 0, 0, 0, 0],\n[0, 0, 0, 0, 0, 0, 1, 0, 0, 0, 0],\n[0, 0, 0, 0, 0, 0, 0, 1, 0, 0, 0],\n[0, 0, 0, 0, 0, 0, 0, 0, 1, 0, 0],\n[0, 0, 0, 0, 0, 0, 0, 0, 0, 1, 0],\n[0, 0, 0, 0, 0, 0, 0, 0, 0, 0, 1]])",
            "text/latex": "$\\displaystyle \\left[\\begin{array}{ccccccccccc}1 & 0 & 0 & 0 & 0 & 0 & 0 & 0 & 0 & 0 & 0\\\\0 & 1 & 0 & 0 & 0 & 0 & 0 & 0 & 0 & 0 & 0\\\\0 & 0 & 1 & 0 & 0 & 0 & 0 & 0 & 0 & 0 & 0\\\\0 & 0 & 0 & 1 & 0 & 0 & 0 & 0 & 0 & 0 & 0\\\\0 & 0 & 0 & 0 & 1 & 0 & 0 & 0 & 0 & 0 & 0\\\\0 & 0 & 0 & 0 & 0 & 1 & 0 & 0 & 0 & 0 & 0\\\\0 & 0 & 0 & 0 & 0 & 0 & 1 & 0 & 0 & 0 & 0\\\\0 & 0 & 0 & 0 & 0 & 0 & 0 & 1 & 0 & 0 & 0\\\\0 & 0 & 0 & 0 & 0 & 0 & 0 & 0 & 1 & 0 & 0\\\\0 & 0 & 0 & 0 & 0 & 0 & 0 & 0 & 0 & 1 & 0\\\\0 & 0 & 0 & 0 & 0 & 0 & 0 & 0 & 0 & 0 & 1\\end{array}\\right]$"
          },
          "metadata": {}
        }
      ]
    },
    {
      "cell_type": "code",
      "source": "eye(1)",
      "metadata": {
        "trusted": true
      },
      "execution_count": 75,
      "outputs": [
        {
          "execution_count": 75,
          "output_type": "execute_result",
          "data": {
            "text/plain": "Matrix([[1]])",
            "text/latex": "$\\displaystyle \\left[\\begin{matrix}1\\end{matrix}\\right]$"
          },
          "metadata": {}
        }
      ]
    },
    {
      "cell_type": "code",
      "source": "ones(6,7)",
      "metadata": {
        "trusted": true
      },
      "execution_count": 76,
      "outputs": [
        {
          "execution_count": 76,
          "output_type": "execute_result",
          "data": {
            "text/plain": "Matrix([\n[1, 1, 1, 1, 1, 1, 1],\n[1, 1, 1, 1, 1, 1, 1],\n[1, 1, 1, 1, 1, 1, 1],\n[1, 1, 1, 1, 1, 1, 1],\n[1, 1, 1, 1, 1, 1, 1],\n[1, 1, 1, 1, 1, 1, 1]])",
            "text/latex": "$\\displaystyle \\left[\\begin{matrix}1 & 1 & 1 & 1 & 1 & 1 & 1\\\\1 & 1 & 1 & 1 & 1 & 1 & 1\\\\1 & 1 & 1 & 1 & 1 & 1 & 1\\\\1 & 1 & 1 & 1 & 1 & 1 & 1\\\\1 & 1 & 1 & 1 & 1 & 1 & 1\\\\1 & 1 & 1 & 1 & 1 & 1 & 1\\end{matrix}\\right]$"
          },
          "metadata": {}
        }
      ]
    },
    {
      "cell_type": "code",
      "source": "ones(3,9)",
      "metadata": {
        "trusted": true
      },
      "execution_count": 77,
      "outputs": [
        {
          "execution_count": 77,
          "output_type": "execute_result",
          "data": {
            "text/plain": "Matrix([\n[1, 1, 1, 1, 1, 1, 1, 1, 1],\n[1, 1, 1, 1, 1, 1, 1, 1, 1],\n[1, 1, 1, 1, 1, 1, 1, 1, 1]])",
            "text/latex": "$\\displaystyle \\left[\\begin{matrix}1 & 1 & 1 & 1 & 1 & 1 & 1 & 1 & 1\\\\1 & 1 & 1 & 1 & 1 & 1 & 1 & 1 & 1\\\\1 & 1 & 1 & 1 & 1 & 1 & 1 & 1 & 1\\end{matrix}\\right]$"
          },
          "metadata": {}
        }
      ]
    },
    {
      "cell_type": "code",
      "source": "ones(9,9)",
      "metadata": {
        "trusted": true
      },
      "execution_count": 78,
      "outputs": [
        {
          "execution_count": 78,
          "output_type": "execute_result",
          "data": {
            "text/plain": "Matrix([\n[1, 1, 1, 1, 1, 1, 1, 1, 1],\n[1, 1, 1, 1, 1, 1, 1, 1, 1],\n[1, 1, 1, 1, 1, 1, 1, 1, 1],\n[1, 1, 1, 1, 1, 1, 1, 1, 1],\n[1, 1, 1, 1, 1, 1, 1, 1, 1],\n[1, 1, 1, 1, 1, 1, 1, 1, 1],\n[1, 1, 1, 1, 1, 1, 1, 1, 1],\n[1, 1, 1, 1, 1, 1, 1, 1, 1],\n[1, 1, 1, 1, 1, 1, 1, 1, 1]])",
            "text/latex": "$\\displaystyle \\left[\\begin{matrix}1 & 1 & 1 & 1 & 1 & 1 & 1 & 1 & 1\\\\1 & 1 & 1 & 1 & 1 & 1 & 1 & 1 & 1\\\\1 & 1 & 1 & 1 & 1 & 1 & 1 & 1 & 1\\\\1 & 1 & 1 & 1 & 1 & 1 & 1 & 1 & 1\\\\1 & 1 & 1 & 1 & 1 & 1 & 1 & 1 & 1\\\\1 & 1 & 1 & 1 & 1 & 1 & 1 & 1 & 1\\\\1 & 1 & 1 & 1 & 1 & 1 & 1 & 1 & 1\\\\1 & 1 & 1 & 1 & 1 & 1 & 1 & 1 & 1\\\\1 & 1 & 1 & 1 & 1 & 1 & 1 & 1 & 1\\end{matrix}\\right]$"
          },
          "metadata": {}
        }
      ]
    },
    {
      "cell_type": "code",
      "source": "zeros(4,5)",
      "metadata": {
        "trusted": true
      },
      "execution_count": 79,
      "outputs": [
        {
          "execution_count": 79,
          "output_type": "execute_result",
          "data": {
            "text/plain": "Matrix([\n[0, 0, 0, 0, 0],\n[0, 0, 0, 0, 0],\n[0, 0, 0, 0, 0],\n[0, 0, 0, 0, 0]])",
            "text/latex": "$\\displaystyle \\left[\\begin{matrix}0 & 0 & 0 & 0 & 0\\\\0 & 0 & 0 & 0 & 0\\\\0 & 0 & 0 & 0 & 0\\\\0 & 0 & 0 & 0 & 0\\end{matrix}\\right]$"
          },
          "metadata": {}
        }
      ]
    },
    {
      "cell_type": "code",
      "source": "a=Matrix([[4,2,4],[4,-1,1],[2,4,2]])",
      "metadata": {
        "trusted": true
      },
      "execution_count": 80,
      "outputs": []
    },
    {
      "cell_type": "code",
      "source": "b=Matrix([[5,2,3],[3,-7,5],[3,1,-1]])",
      "metadata": {
        "trusted": true
      },
      "execution_count": 82,
      "outputs": []
    },
    {
      "cell_type": "code",
      "source": "print(a)",
      "metadata": {
        "trusted": true
      },
      "execution_count": 83,
      "outputs": [
        {
          "name": "stdout",
          "text": "Matrix([[4, 2, 4], [4, -1, 1], [2, 4, 2]])\n",
          "output_type": "stream"
        }
      ]
    },
    {
      "cell_type": "code",
      "source": "print(b)",
      "metadata": {
        "trusted": true
      },
      "execution_count": 84,
      "outputs": [
        {
          "name": "stdout",
          "text": "Matrix([[5, 2, 3], [3, -7, 5], [3, 1, -1]])\n",
          "output_type": "stream"
        }
      ]
    },
    {
      "cell_type": "code",
      "source": "a+b",
      "metadata": {
        "trusted": true
      },
      "execution_count": 85,
      "outputs": [
        {
          "execution_count": 85,
          "output_type": "execute_result",
          "data": {
            "text/plain": "Matrix([\n[9,  4, 7],\n[7, -8, 6],\n[5,  5, 1]])",
            "text/latex": "$\\displaystyle \\left[\\begin{matrix}9 & 4 & 7\\\\7 & -8 & 6\\\\5 & 5 & 1\\end{matrix}\\right]$"
          },
          "metadata": {}
        }
      ]
    },
    {
      "cell_type": "code",
      "source": "a-b",
      "metadata": {
        "trusted": true
      },
      "execution_count": 86,
      "outputs": [
        {
          "execution_count": 86,
          "output_type": "execute_result",
          "data": {
            "text/plain": "Matrix([\n[-1, 0,  1],\n[ 1, 6, -4],\n[-1, 3,  3]])",
            "text/latex": "$\\displaystyle \\left[\\begin{matrix}-1 & 0 & 1\\\\1 & 6 & -4\\\\-1 & 3 & 3\\end{matrix}\\right]$"
          },
          "metadata": {}
        }
      ]
    },
    {
      "cell_type": "code",
      "source": "a*b",
      "metadata": {
        "trusted": true
      },
      "execution_count": 87,
      "outputs": [
        {
          "execution_count": 87,
          "output_type": "execute_result",
          "data": {
            "text/plain": "Matrix([\n[38,  -2, 18],\n[20,  16,  6],\n[28, -22, 24]])",
            "text/latex": "$\\displaystyle \\left[\\begin{matrix}38 & -2 & 18\\\\20 & 16 & 6\\\\28 & -22 & 24\\end{matrix}\\right]$"
          },
          "metadata": {}
        }
      ]
    },
    {
      "cell_type": "code",
      "source": "b*a",
      "metadata": {
        "trusted": true
      },
      "execution_count": 88,
      "outputs": [
        {
          "execution_count": 88,
          "output_type": "execute_result",
          "data": {
            "text/plain": "Matrix([\n[34, 20, 28],\n[-6, 33, 15],\n[14,  1, 11]])",
            "text/latex": "$\\displaystyle \\left[\\begin{matrix}34 & 20 & 28\\\\-6 & 33 & 15\\\\14 & 1 & 11\\end{matrix}\\right]$"
          },
          "metadata": {}
        }
      ]
    },
    {
      "cell_type": "code",
      "source": "a.inv()",
      "metadata": {
        "trusted": true
      },
      "execution_count": 89,
      "outputs": [
        {
          "execution_count": 89,
          "output_type": "execute_result",
          "data": {
            "text/plain": "Matrix([\n[-1/6,  1/3,  1/6],\n[-1/6,    0,  1/3],\n[ 1/2, -1/3, -1/3]])",
            "text/latex": "$\\displaystyle \\left[\\begin{matrix}- \\frac{1}{6} & \\frac{1}{3} & \\frac{1}{6}\\\\- \\frac{1}{6} & 0 & \\frac{1}{3}\\\\\\frac{1}{2} & - \\frac{1}{3} & - \\frac{1}{3}\\end{matrix}\\right]$"
          },
          "metadata": {}
        }
      ]
    },
    {
      "cell_type": "code",
      "source": "a**3",
      "metadata": {
        "trusted": true
      },
      "execution_count": 90,
      "outputs": [
        {
          "execution_count": 90,
          "output_type": "execute_result",
          "data": {
            "text/plain": "Matrix([\n[268, 146, 202],\n[142,  83, 103],\n[176, 112, 152]])",
            "text/latex": "$\\displaystyle \\left[\\begin{matrix}268 & 146 & 202\\\\142 & 83 & 103\\\\176 & 112 & 152\\end{matrix}\\right]$"
          },
          "metadata": {}
        }
      ]
    },
    {
      "cell_type": "code",
      "source": "b.inv()",
      "metadata": {
        "trusted": true
      },
      "execution_count": 91,
      "outputs": [
        {
          "execution_count": 91,
          "output_type": "execute_result",
          "data": {
            "text/plain": "Matrix([\n[ 1/59, 5/118,  31/118],\n[ 9/59, -7/59,   -8/59],\n[12/59, 1/118, -41/118]])",
            "text/latex": "$\\displaystyle \\left[\\begin{matrix}\\frac{1}{59} & \\frac{5}{118} & \\frac{31}{118}\\\\\\frac{9}{59} & - \\frac{7}{59} & - \\frac{8}{59}\\\\\\frac{12}{59} & \\frac{1}{118} & - \\frac{41}{118}\\end{matrix}\\right]$"
          },
          "metadata": {}
        }
      ]
    },
    {
      "cell_type": "code",
      "source": "a*a",
      "metadata": {
        "trusted": true
      },
      "execution_count": 92,
      "outputs": [
        {
          "execution_count": 92,
          "output_type": "execute_result",
          "data": {
            "text/plain": "Matrix([\n[32, 22, 26],\n[14, 13, 17],\n[28,  8, 16]])",
            "text/latex": "$\\displaystyle \\left[\\begin{matrix}32 & 22 & 26\\\\14 & 13 & 17\\\\28 & 8 & 16\\end{matrix}\\right]$"
          },
          "metadata": {}
        }
      ]
    },
    {
      "cell_type": "code",
      "source": "b*b",
      "metadata": {
        "trusted": true
      },
      "execution_count": 93,
      "outputs": [
        {
          "execution_count": 93,
          "output_type": "execute_result",
          "data": {
            "text/plain": "Matrix([\n[40, -1,  22],\n[ 9, 60, -31],\n[15, -2,  15]])",
            "text/latex": "$\\displaystyle \\left[\\begin{matrix}40 & -1 & 22\\\\9 & 60 & -31\\\\15 & -2 & 15\\end{matrix}\\right]$"
          },
          "metadata": {}
        }
      ]
    },
    {
      "cell_type": "code",
      "source": "b.inv()",
      "metadata": {
        "trusted": true
      },
      "execution_count": 94,
      "outputs": [
        {
          "execution_count": 94,
          "output_type": "execute_result",
          "data": {
            "text/plain": "Matrix([\n[ 1/59, 5/118,  31/118],\n[ 9/59, -7/59,   -8/59],\n[12/59, 1/118, -41/118]])",
            "text/latex": "$\\displaystyle \\left[\\begin{matrix}\\frac{1}{59} & \\frac{5}{118} & \\frac{31}{118}\\\\\\frac{9}{59} & - \\frac{7}{59} & - \\frac{8}{59}\\\\\\frac{12}{59} & \\frac{1}{118} & - \\frac{41}{118}\\end{matrix}\\right]$"
          },
          "metadata": {}
        }
      ]
    },
    {
      "cell_type": "code",
      "source": "a*a.inv()",
      "metadata": {
        "trusted": true
      },
      "execution_count": 95,
      "outputs": [
        {
          "execution_count": 95,
          "output_type": "execute_result",
          "data": {
            "text/plain": "Matrix([\n[1, 0, 0],\n[0, 1, 0],\n[0, 0, 1]])",
            "text/latex": "$\\displaystyle \\left[\\begin{matrix}1 & 0 & 0\\\\0 & 1 & 0\\\\0 & 0 & 1\\end{matrix}\\right]$"
          },
          "metadata": {}
        }
      ]
    },
    {
      "cell_type": "code",
      "source": "A=Matrix([[5,2,3],[3,-7,5],[-3,10,-11]])",
      "metadata": {
        "trusted": true
      },
      "execution_count": 96,
      "outputs": []
    },
    {
      "cell_type": "code",
      "source": "print(A)",
      "metadata": {
        "trusted": true
      },
      "execution_count": 97,
      "outputs": [
        {
          "name": "stdout",
          "text": "Matrix([[5, 2, 3], [3, -7, 5], [-3, 10, -11]])\n",
          "output_type": "stream"
        }
      ]
    },
    {
      "cell_type": "code",
      "source": "A.col_del(-2)",
      "metadata": {
        "trusted": true
      },
      "execution_count": 98,
      "outputs": []
    },
    {
      "cell_type": "code",
      "source": "print(A)",
      "metadata": {
        "trusted": true
      },
      "execution_count": 99,
      "outputs": [
        {
          "name": "stdout",
          "text": "Matrix([[5, 3], [3, 5], [-3, -11]])\n",
          "output_type": "stream"
        }
      ]
    },
    {
      "cell_type": "code",
      "source": "a.col_del(-3)",
      "metadata": {
        "trusted": true
      },
      "execution_count": 100,
      "outputs": []
    },
    {
      "cell_type": "code",
      "source": "print(a)",
      "metadata": {
        "trusted": true
      },
      "execution_count": 101,
      "outputs": [
        {
          "name": "stdout",
          "text": "Matrix([[2, 4], [-1, 1], [4, 2]])\n",
          "output_type": "stream"
        }
      ]
    },
    {
      "cell_type": "code",
      "source": "b.col_del(-1)",
      "metadata": {
        "trusted": true
      },
      "execution_count": 102,
      "outputs": []
    },
    {
      "cell_type": "code",
      "source": "print(b)",
      "metadata": {
        "trusted": true
      },
      "execution_count": 103,
      "outputs": [
        {
          "name": "stdout",
          "text": "Matrix([[5, 2], [3, -7], [3, 1]])\n",
          "output_type": "stream"
        }
      ]
    },
    {
      "cell_type": "code",
      "source": "A.row_insert(1,Matrix([[1,1]]))",
      "metadata": {
        "trusted": true
      },
      "execution_count": 105,
      "outputs": [
        {
          "execution_count": 105,
          "output_type": "execute_result",
          "data": {
            "text/plain": "Matrix([\n[ 5,   3],\n[ 1,   1],\n[ 3,   5],\n[-3, -11]])",
            "text/latex": "$\\displaystyle \\left[\\begin{matrix}5 & 3\\\\1 & 1\\\\3 & 5\\\\-3 & -11\\end{matrix}\\right]$"
          },
          "metadata": {}
        }
      ]
    },
    {
      "cell_type": "code",
      "source": "A.row_insert(1,Matrix([[9,9]]))",
      "metadata": {
        "trusted": true
      },
      "execution_count": 107,
      "outputs": [
        {
          "execution_count": 107,
          "output_type": "execute_result",
          "data": {
            "text/plain": "Matrix([\n[ 5,   3],\n[ 9,   9],\n[ 3,   5],\n[-3, -11]])",
            "text/latex": "$\\displaystyle \\left[\\begin{matrix}5 & 3\\\\9 & 9\\\\3 & 5\\\\-3 & -11\\end{matrix}\\right]$"
          },
          "metadata": {}
        }
      ]
    },
    {
      "cell_type": "code",
      "source": "A=A.col_insert(0,Matrix([[1],[1],[1]]))",
      "metadata": {
        "trusted": true
      },
      "execution_count": 118,
      "outputs": []
    },
    {
      "cell_type": "code",
      "source": "print(A)",
      "metadata": {
        "trusted": true
      },
      "execution_count": 119,
      "outputs": [
        {
          "name": "stdout",
          "text": "Matrix([[1, 5, 3], [1, 3, 5], [1, -3, -11]])\n",
          "output_type": "stream"
        }
      ]
    },
    {
      "cell_type": "code",
      "source": "print(a)",
      "metadata": {
        "trusted": true
      },
      "execution_count": 120,
      "outputs": [
        {
          "name": "stdout",
          "text": "Matrix([[2, 4], [-1, 1], [4, 2]])\n",
          "output_type": "stream"
        }
      ]
    },
    {
      "cell_type": "code",
      "source": "a=a.col_insert(0,Matrix([[9],[9],[9]]))",
      "metadata": {
        "trusted": true
      },
      "execution_count": 121,
      "outputs": []
    },
    {
      "cell_type": "code",
      "source": "print(a)",
      "metadata": {
        "trusted": true
      },
      "execution_count": 122,
      "outputs": [
        {
          "name": "stdout",
          "text": "Matrix([[9, 2, 4], [9, -1, 1], [9, 4, 2]])\n",
          "output_type": "stream"
        }
      ]
    },
    {
      "cell_type": "code",
      "source": "a.row_insert(0,Matrix([[5,5,5]]))",
      "metadata": {
        "trusted": true
      },
      "execution_count": 123,
      "outputs": [
        {
          "execution_count": 123,
          "output_type": "execute_result",
          "data": {
            "text/plain": "Matrix([\n[5,  5, 5],\n[9,  2, 4],\n[9, -1, 1],\n[9,  4, 2]])",
            "text/latex": "$\\displaystyle \\left[\\begin{matrix}5 & 5 & 5\\\\9 & 2 & 4\\\\9 & -1 & 1\\\\9 & 4 & 2\\end{matrix}\\right]$"
          },
          "metadata": {}
        }
      ]
    },
    {
      "cell_type": "code",
      "source": "A=Matrix([[4,2,4],[4,-1,1],[2,4,2]])",
      "metadata": {
        "trusted": true
      },
      "execution_count": 124,
      "outputs": []
    },
    {
      "cell_type": "code",
      "source": "B=Matrix([[5,2,3],[3,-7,5],[3,1,-1]])",
      "metadata": {
        "trusted": true
      },
      "execution_count": 125,
      "outputs": []
    },
    {
      "cell_type": "code",
      "source": "C=Matrix([[10,2,3],[12,-7,5],[-15,10,-11]])",
      "metadata": {
        "trusted": true
      },
      "execution_count": 127,
      "outputs": []
    },
    {
      "cell_type": "code",
      "source": "print(A)\nprint(B)\nprint(C)",
      "metadata": {
        "trusted": true
      },
      "execution_count": 128,
      "outputs": [
        {
          "name": "stdout",
          "text": "Matrix([[4, 2, 4], [4, -1, 1], [2, 4, 2]])\nMatrix([[5, 2, 3], [3, -7, 5], [3, 1, -1]])\nMatrix([[10, 2, 3], [12, -7, 5], [-15, 10, -11]])\n",
          "output_type": "stream"
        }
      ]
    },
    {
      "cell_type": "code",
      "source": "A.T",
      "metadata": {
        "trusted": true
      },
      "execution_count": 129,
      "outputs": [
        {
          "execution_count": 129,
          "output_type": "execute_result",
          "data": {
            "text/plain": "Matrix([\n[4,  4, 2],\n[2, -1, 4],\n[4,  1, 2]])",
            "text/latex": "$\\displaystyle \\left[\\begin{matrix}4 & 4 & 2\\\\2 & -1 & 4\\\\4 & 1 & 2\\end{matrix}\\right]$"
          },
          "metadata": {}
        }
      ]
    },
    {
      "cell_type": "code",
      "source": "B.T",
      "metadata": {
        "trusted": true
      },
      "execution_count": 130,
      "outputs": [
        {
          "execution_count": 130,
          "output_type": "execute_result",
          "data": {
            "text/plain": "Matrix([\n[5,  3,  3],\n[2, -7,  1],\n[3,  5, -1]])",
            "text/latex": "$\\displaystyle \\left[\\begin{matrix}5 & 3 & 3\\\\2 & -7 & 1\\\\3 & 5 & -1\\end{matrix}\\right]$"
          },
          "metadata": {}
        }
      ]
    },
    {
      "cell_type": "code",
      "source": "C.T",
      "metadata": {
        "trusted": true
      },
      "execution_count": 131,
      "outputs": [
        {
          "execution_count": 131,
          "output_type": "execute_result",
          "data": {
            "text/plain": "Matrix([\n[10, 12, -15],\n[ 2, -7,  10],\n[ 3,  5, -11]])",
            "text/latex": "$\\displaystyle \\left[\\begin{matrix}10 & 12 & -15\\\\2 & -7 & 10\\\\3 & 5 & -11\\end{matrix}\\right]$"
          },
          "metadata": {}
        }
      ]
    },
    {
      "cell_type": "code",
      "source": "det(A)",
      "metadata": {
        "trusted": true
      },
      "execution_count": 132,
      "outputs": [
        {
          "execution_count": 132,
          "output_type": "execute_result",
          "data": {
            "text/plain": "36",
            "text/latex": "$\\displaystyle 36$"
          },
          "metadata": {}
        }
      ]
    },
    {
      "cell_type": "code",
      "source": "det(B)",
      "metadata": {
        "trusted": true
      },
      "execution_count": 133,
      "outputs": [
        {
          "execution_count": 133,
          "output_type": "execute_result",
          "data": {
            "text/plain": "118",
            "text/latex": "$\\displaystyle 118$"
          },
          "metadata": {}
        }
      ]
    },
    {
      "cell_type": "code",
      "source": "det(C)",
      "metadata": {
        "trusted": true
      },
      "execution_count": 134,
      "outputs": [
        {
          "execution_count": 134,
          "output_type": "execute_result",
          "data": {
            "text/plain": "429",
            "text/latex": "$\\displaystyle 429$"
          },
          "metadata": {}
        }
      ]
    },
    {
      "cell_type": "code",
      "source": "A.inv()",
      "metadata": {
        "trusted": true
      },
      "execution_count": 135,
      "outputs": [
        {
          "execution_count": 135,
          "output_type": "execute_result",
          "data": {
            "text/plain": "Matrix([\n[-1/6,  1/3,  1/6],\n[-1/6,    0,  1/3],\n[ 1/2, -1/3, -1/3]])",
            "text/latex": "$\\displaystyle \\left[\\begin{matrix}- \\frac{1}{6} & \\frac{1}{3} & \\frac{1}{6}\\\\- \\frac{1}{6} & 0 & \\frac{1}{3}\\\\\\frac{1}{2} & - \\frac{1}{3} & - \\frac{1}{3}\\end{matrix}\\right]$"
          },
          "metadata": {}
        }
      ]
    },
    {
      "cell_type": "code",
      "source": "B.inv()",
      "metadata": {
        "trusted": true
      },
      "execution_count": 136,
      "outputs": [
        {
          "execution_count": 136,
          "output_type": "execute_result",
          "data": {
            "text/plain": "Matrix([\n[ 1/59, 5/118,  31/118],\n[ 9/59, -7/59,   -8/59],\n[12/59, 1/118, -41/118]])",
            "text/latex": "$\\displaystyle \\left[\\begin{matrix}\\frac{1}{59} & \\frac{5}{118} & \\frac{31}{118}\\\\\\frac{9}{59} & - \\frac{7}{59} & - \\frac{8}{59}\\\\\\frac{12}{59} & \\frac{1}{118} & - \\frac{41}{118}\\end{matrix}\\right]$"
          },
          "metadata": {}
        }
      ]
    },
    {
      "cell_type": "code",
      "source": "C.inv()",
      "metadata": {
        "trusted": true
      },
      "execution_count": 137,
      "outputs": [
        {
          "execution_count": 137,
          "output_type": "execute_result",
          "data": {
            "text/plain": "Matrix([\n[ 9/143,   4/33,  31/429],\n[19/143,  -5/33, -14/429],\n[ 5/143, -10/33, -94/429]])",
            "text/latex": "$\\displaystyle \\left[\\begin{matrix}\\frac{9}{143} & \\frac{4}{33} & \\frac{31}{429}\\\\\\frac{19}{143} & - \\frac{5}{33} & - \\frac{14}{429}\\\\\\frac{5}{143} & - \\frac{10}{33} & - \\frac{94}{429}\\end{matrix}\\right]$"
          },
          "metadata": {}
        }
      ]
    },
    {
      "cell_type": "code",
      "source": "A.rref()",
      "metadata": {
        "trusted": true
      },
      "execution_count": 138,
      "outputs": [
        {
          "execution_count": 138,
          "output_type": "execute_result",
          "data": {
            "text/plain": "(Matrix([\n [1, 0, 0],\n [0, 1, 0],\n [0, 0, 1]]),\n (0, 1, 2))"
          },
          "metadata": {}
        }
      ]
    },
    {
      "cell_type": "code",
      "source": "B.rref()",
      "metadata": {
        "trusted": true
      },
      "execution_count": 139,
      "outputs": [
        {
          "execution_count": 139,
          "output_type": "execute_result",
          "data": {
            "text/plain": "(Matrix([\n [1, 0, 0],\n [0, 1, 0],\n [0, 0, 1]]),\n (0, 1, 2))"
          },
          "metadata": {}
        }
      ]
    },
    {
      "cell_type": "code",
      "source": "C.rref()",
      "metadata": {
        "trusted": true
      },
      "execution_count": 141,
      "outputs": [
        {
          "execution_count": 141,
          "output_type": "execute_result",
          "data": {
            "text/plain": "(Matrix([\n [1, 0, 0],\n [0, 1, 0],\n [0, 0, 1]]),\n (0, 1, 2))"
          },
          "metadata": {}
        }
      ]
    },
    {
      "cell_type": "code",
      "source": "A.rank()",
      "metadata": {
        "trusted": true
      },
      "execution_count": 142,
      "outputs": [
        {
          "execution_count": 142,
          "output_type": "execute_result",
          "data": {
            "text/plain": "3"
          },
          "metadata": {}
        }
      ]
    },
    {
      "cell_type": "code",
      "source": "B.rank()",
      "metadata": {
        "trusted": true
      },
      "execution_count": 143,
      "outputs": [
        {
          "execution_count": 143,
          "output_type": "execute_result",
          "data": {
            "text/plain": "3"
          },
          "metadata": {}
        }
      ]
    },
    {
      "cell_type": "code",
      "source": "C.rank()",
      "metadata": {
        "trusted": true
      },
      "execution_count": 144,
      "outputs": [
        {
          "execution_count": 144,
          "output_type": "execute_result",
          "data": {
            "text/plain": "3"
          },
          "metadata": {}
        }
      ]
    },
    {
      "cell_type": "code",
      "source": "a.rank()",
      "metadata": {
        "trusted": true
      },
      "execution_count": 145,
      "outputs": [
        {
          "execution_count": 145,
          "output_type": "execute_result",
          "data": {
            "text/plain": "3"
          },
          "metadata": {}
        }
      ]
    },
    {
      "cell_type": "code",
      "source": "b.rank()",
      "metadata": {
        "trusted": true
      },
      "execution_count": 146,
      "outputs": [
        {
          "execution_count": 146,
          "output_type": "execute_result",
          "data": {
            "text/plain": "2"
          },
          "metadata": {}
        }
      ]
    },
    {
      "cell_type": "code",
      "source": "a.T",
      "metadata": {
        "trusted": true
      },
      "execution_count": 147,
      "outputs": [
        {
          "execution_count": 147,
          "output_type": "execute_result",
          "data": {
            "text/plain": "Matrix([\n[9,  9, 9],\n[2, -1, 4],\n[4,  1, 2]])",
            "text/latex": "$\\displaystyle \\left[\\begin{matrix}9 & 9 & 9\\\\2 & -1 & 4\\\\4 & 1 & 2\\end{matrix}\\right]$"
          },
          "metadata": {}
        }
      ]
    },
    {
      "cell_type": "code",
      "source": "b.T",
      "metadata": {
        "trusted": true
      },
      "execution_count": 148,
      "outputs": [
        {
          "execution_count": 148,
          "output_type": "execute_result",
          "data": {
            "text/plain": "Matrix([\n[5,  3, 3],\n[2, -7, 1]])",
            "text/latex": "$\\displaystyle \\left[\\begin{matrix}5 & 3 & 3\\\\2 & -7 & 1\\end{matrix}\\right]$"
          },
          "metadata": {}
        }
      ]
    },
    {
      "cell_type": "code",
      "source": "a.rref()",
      "metadata": {
        "trusted": true
      },
      "execution_count": 149,
      "outputs": [
        {
          "execution_count": 149,
          "output_type": "execute_result",
          "data": {
            "text/plain": "(Matrix([\n [1, 0, 0],\n [0, 1, 0],\n [0, 0, 1]]),\n (0, 1, 2))"
          },
          "metadata": {}
        }
      ]
    },
    {
      "cell_type": "code",
      "source": "b.rref()",
      "metadata": {
        "trusted": true
      },
      "execution_count": 150,
      "outputs": [
        {
          "execution_count": 150,
          "output_type": "execute_result",
          "data": {
            "text/plain": "(Matrix([\n [1, 0],\n [0, 1],\n [0, 0]]),\n (0, 1))"
          },
          "metadata": {}
        }
      ]
    },
    {
      "cell_type": "code",
      "source": "det(a)",
      "metadata": {
        "trusted": true
      },
      "execution_count": 151,
      "outputs": [
        {
          "execution_count": 151,
          "output_type": "execute_result",
          "data": {
            "text/plain": "108",
            "text/latex": "$\\displaystyle 108$"
          },
          "metadata": {}
        }
      ]
    },
    {
      "cell_type": "code",
      "source": "a.inv()",
      "metadata": {
        "trusted": true
      },
      "execution_count": 153,
      "outputs": [
        {
          "execution_count": 153,
          "output_type": "execute_result",
          "data": {
            "text/plain": "Matrix([\n[-1/18,  1/9, 1/18],\n[-1/12, -1/6,  1/4],\n[ 5/12, -1/6, -1/4]])",
            "text/latex": "$\\displaystyle \\left[\\begin{matrix}- \\frac{1}{18} & \\frac{1}{9} & \\frac{1}{18}\\\\- \\frac{1}{12} & - \\frac{1}{6} & \\frac{1}{4}\\\\\\frac{5}{12} & - \\frac{1}{6} & - \\frac{1}{4}\\end{matrix}\\right]$"
          },
          "metadata": {}
        }
      ]
    },
    {
      "cell_type": "code",
      "source": "A.nullspace()",
      "metadata": {
        "trusted": true
      },
      "execution_count": 155,
      "outputs": [
        {
          "execution_count": 155,
          "output_type": "execute_result",
          "data": {
            "text/plain": "[]"
          },
          "metadata": {}
        }
      ]
    },
    {
      "cell_type": "code",
      "source": "B.nullspace()",
      "metadata": {
        "trusted": true
      },
      "execution_count": 156,
      "outputs": [
        {
          "execution_count": 156,
          "output_type": "execute_result",
          "data": {
            "text/plain": "[]"
          },
          "metadata": {}
        }
      ]
    },
    {
      "cell_type": "code",
      "source": "C.nullspace()",
      "metadata": {
        "trusted": true
      },
      "execution_count": 157,
      "outputs": [
        {
          "execution_count": 157,
          "output_type": "execute_result",
          "data": {
            "text/plain": "[]"
          },
          "metadata": {}
        }
      ]
    },
    {
      "cell_type": "code",
      "source": "A.columnspace()",
      "metadata": {
        "trusted": true
      },
      "execution_count": 159,
      "outputs": [
        {
          "execution_count": 159,
          "output_type": "execute_result",
          "data": {
            "text/plain": "[Matrix([\n [4],\n [4],\n [2]]),\n Matrix([\n [ 2],\n [-1],\n [ 4]]),\n Matrix([\n [4],\n [1],\n [2]])]"
          },
          "metadata": {}
        }
      ]
    },
    {
      "cell_type": "code",
      "source": "B.columnspace()",
      "metadata": {
        "trusted": true
      },
      "execution_count": 160,
      "outputs": [
        {
          "execution_count": 160,
          "output_type": "execute_result",
          "data": {
            "text/plain": "[Matrix([\n [5],\n [3],\n [3]]),\n Matrix([\n [ 2],\n [-7],\n [ 1]]),\n Matrix([\n [ 3],\n [ 5],\n [-1]])]"
          },
          "metadata": {}
        }
      ]
    },
    {
      "cell_type": "code",
      "source": "C.columnspace()",
      "metadata": {
        "trusted": true
      },
      "execution_count": 161,
      "outputs": [
        {
          "execution_count": 161,
          "output_type": "execute_result",
          "data": {
            "text/plain": "[Matrix([\n [ 10],\n [ 12],\n [-15]]),\n Matrix([\n [ 2],\n [-7],\n [10]]),\n Matrix([\n [  3],\n [  5],\n [-11]])]"
          },
          "metadata": {}
        }
      ]
    },
    {
      "cell_type": "code",
      "source": "x,y,z=symbols(\"X,Y,Z\")",
      "metadata": {
        "trusted": true
      },
      "execution_count": 162,
      "outputs": []
    },
    {
      "cell_type": "code",
      "source": "A=Matrix([[3,2,1],[4,2,2],[1,-1,1]])",
      "metadata": {
        "trusted": true
      },
      "execution_count": 163,
      "outputs": []
    },
    {
      "cell_type": "code",
      "source": "b=Matrix([[2,8,4]])",
      "metadata": {
        "trusted": true
      },
      "execution_count": 164,
      "outputs": []
    },
    {
      "cell_type": "code",
      "source": "linsolve((A,b),[x,y,z])",
      "metadata": {
        "trusted": true
      },
      "execution_count": 165,
      "outputs": [
        {
          "execution_count": 165,
          "output_type": "execute_result",
          "data": {
            "text/plain": "{(-4, 2, 10)}",
            "text/latex": "$\\displaystyle \\left\\{\\left( -4, \\  2, \\  10\\right)\\right\\}$"
          },
          "metadata": {}
        }
      ]
    },
    {
      "cell_type": "code",
      "source": "linsolve((B,b),[x,y,z])",
      "metadata": {
        "trusted": true
      },
      "execution_count": 166,
      "outputs": [
        {
          "execution_count": 166,
          "output_type": "execute_result",
          "data": {
            "text/plain": "{(84/59, -70/59, -54/59)}",
            "text/latex": "$\\displaystyle \\left\\{\\left( \\frac{84}{59}, \\  - \\frac{70}{59}, \\  - \\frac{54}{59}\\right)\\right\\}$"
          },
          "metadata": {}
        }
      ]
    },
    {
      "cell_type": "code",
      "source": "A=Matrix([[1,2,3],[4,5,6],[7,8,9]])",
      "metadata": {
        "trusted": true
      },
      "execution_count": 171,
      "outputs": []
    },
    {
      "cell_type": "code",
      "source": "b=Matrix([[11,12,13]])",
      "metadata": {
        "trusted": true
      },
      "execution_count": 172,
      "outputs": []
    },
    {
      "cell_type": "code",
      "source": "A.is_diagonalizable()",
      "metadata": {
        "trusted": true
      },
      "execution_count": 174,
      "outputs": [
        {
          "execution_count": 174,
          "output_type": "execute_result",
          "data": {
            "text/plain": "True"
          },
          "metadata": {}
        }
      ]
    },
    {
      "cell_type": "code",
      "source": "a.is_diagonalizable()",
      "metadata": {
        "trusted": true
      },
      "execution_count": 175,
      "outputs": [
        {
          "execution_count": 175,
          "output_type": "execute_result",
          "data": {
            "text/plain": "True"
          },
          "metadata": {}
        }
      ]
    },
    {
      "cell_type": "code",
      "source": "B.is_diagonalizable()",
      "metadata": {
        "trusted": true
      },
      "execution_count": 176,
      "outputs": [
        {
          "execution_count": 176,
          "output_type": "execute_result",
          "data": {
            "text/plain": "True"
          },
          "metadata": {}
        }
      ]
    },
    {
      "cell_type": "code",
      "source": "C.is_diagonalizable()",
      "metadata": {
        "trusted": true
      },
      "execution_count": 177,
      "outputs": [
        {
          "execution_count": 177,
          "output_type": "execute_result",
          "data": {
            "text/plain": "True"
          },
          "metadata": {}
        }
      ]
    },
    {
      "cell_type": "code",
      "source": "P,D=A.diagonalize()",
      "metadata": {
        "trusted": true
      },
      "execution_count": 178,
      "outputs": []
    },
    {
      "cell_type": "code",
      "source": "P",
      "metadata": {
        "trusted": true
      },
      "execution_count": 179,
      "outputs": [
        {
          "execution_count": 179,
          "output_type": "execute_result",
          "data": {
            "text/plain": "Matrix([\n[ 1, -3*sqrt(33)/22 - 1/2, -1/2 + 3*sqrt(33)/22],\n[-2,  1/4 - 3*sqrt(33)/44,  1/4 + 3*sqrt(33)/44],\n[ 1,                    1,                    1]])",
            "text/latex": "$\\displaystyle \\left[\\begin{matrix}1 & - \\frac{3 \\sqrt{33}}{22} - \\frac{1}{2} & - \\frac{1}{2} + \\frac{3 \\sqrt{33}}{22}\\\\-2 & \\frac{1}{4} - \\frac{3 \\sqrt{33}}{44} & \\frac{1}{4} + \\frac{3 \\sqrt{33}}{44}\\\\1 & 1 & 1\\end{matrix}\\right]$"
          },
          "metadata": {}
        }
      ]
    },
    {
      "cell_type": "code",
      "source": "D",
      "metadata": {
        "trusted": true
      },
      "execution_count": 180,
      "outputs": [
        {
          "execution_count": 180,
          "output_type": "execute_result",
          "data": {
            "text/plain": "Matrix([\n[0,                   0,                   0],\n[0, 15/2 - 3*sqrt(33)/2,                   0],\n[0,                   0, 15/2 + 3*sqrt(33)/2]])",
            "text/latex": "$\\displaystyle \\left[\\begin{matrix}0 & 0 & 0\\\\0 & \\frac{15}{2} - \\frac{3 \\sqrt{33}}{2} & 0\\\\0 & 0 & \\frac{15}{2} + \\frac{3 \\sqrt{33}}{2}\\end{matrix}\\right]$"
          },
          "metadata": {}
        }
      ]
    },
    {
      "cell_type": "code",
      "source": "P,D=B.diagonalize()",
      "metadata": {
        "trusted": true
      },
      "execution_count": 181,
      "outputs": []
    },
    {
      "cell_type": "code",
      "source": "P",
      "metadata": {
        "trusted": true
      },
      "execution_count": 182,
      "outputs": [
        {
          "execution_count": 182,
          "output_type": "execute_result",
          "data": {
            "text/plain": "Matrix([\n[    (18**(1/3)*(-10752 - 10752*sqrt(3)*I)*(567 + 7*sqrt(36447)*I)**(2/3)/21168 + (567 + 7*sqrt(36447)*I)**(1/3)*(448*18**(1/3) + 7**(1/3)*(1 + sqrt(3)*I)*(12 + 84**(1/3)*(1 + sqrt(3)*I)*(81 + sqrt(36447)*I)**(1/3))*(81 + sqrt(36447)*I)**(1/3))**2/21168 + (-90 + (-1 - sqrt(3)*I)*(6804 + 84*sqrt(36447)*I)**(1/3))*(1 + sqrt(3)*I)**2*(81 + sqrt(36447)*I)/126)/((1 + sqrt(3)*I)**2*(81 + sqrt(36447)*I)),         ((567 + 7*sqrt(36447)*I)**(1/3)*(448*18**(1/3) + 7**(1/3)*(1 - sqrt(3)*I)*(12 + 84**(1/3)*(1 - sqrt(3)*I)*(81 + sqrt(36447)*I)**(1/3))*(81 + sqrt(36447)*I)**(1/3))**2/21168 + 18**(1/3)*(-10752 + 10752*sqrt(3)*I)*(567 + 7*sqrt(36447)*I)**(2/3)/21168 + (-90 + (-1 + sqrt(3)*I)*(6804 + 84*sqrt(36447)*I)**(1/3))*(1 - sqrt(3)*I)**2*(81 + sqrt(36447)*I)/126)/((1 - sqrt(3)*I)**2*(81 + sqrt(36447)*I)), (140*sqrt(36447) - 896*84**(1/3)*I*(81 + sqrt(36447)*I)**(1/3) - 11340*I - 32*18**(1/3)*7**(2/3)*I*(81 + sqrt(36447)*I)**(2/3) + 5*882**(1/3)*I*(81 + sqrt(36447)*I)**(2/3) + sqrt(12149)*3**(1/6)*98**(1/3)*(81 + sqrt(36447)*I)**(2/3))/(126*(sqrt(36447) - 81*I))],\n[(-26880*18**(1/3)*7**(2/3)*(1 + sqrt(3)*I)*(81 + sqrt(36447)*I)**(2/3) - 7**(1/3)*(81 + sqrt(36447)*I)**(1/3)*(448*18**(1/3) + 7**(1/3)*(1 + sqrt(3)*I)*(12 + 84**(1/3)*(1 + sqrt(3)*I)*(81 + sqrt(36447)*I)**(1/3))*(81 + sqrt(36447)*I)**(1/3))**2 + 420*(1 + sqrt(3)*I)**2*(36 - 84**(1/3)*(1 + sqrt(3)*I)*(81 + sqrt(36447)*I)**(1/3))*(81 + sqrt(36447)*I))/(7056*(1 + sqrt(3)*I)**2*(81 + sqrt(36447)*I)), (5*(1 - sqrt(3)*I)**3*(36 + (-1 + sqrt(3)*I)*(6804 + 84*sqrt(36447)*I)**(1/3))*(81 + sqrt(36447)*I)/84 - 80*18**(1/3)*(1 - sqrt(3)*I)**2*(567 + 7*sqrt(36447)*I)**(2/3)/21 + (-1 + sqrt(3)*I)*(567 + 7*sqrt(36447)*I)**(1/3)*(448*18**(1/3) + 7**(1/3)*(1 - sqrt(3)*I)*(12 + 84**(1/3)*(1 - sqrt(3)*I)*(81 + sqrt(36447)*I)**(1/3))*(81 + sqrt(36447)*I)**(1/3))**2/7056)/((1 - sqrt(3)*I)**3*(81 + sqrt(36447)*I)),                                                                               15/7 + 40/(3*(63/2 + 7*sqrt(36447)*I/18)**(1/3)) - (-1 + 56/(3*(63/2 + 7*sqrt(36447)*I/18)**(1/3)) + (63/2 + 7*sqrt(36447)*I/18)**(1/3))**2/7 + 5*(63/2 + 7*sqrt(36447)*I/18)**(1/3)/7],\n[                                                                                                                                                                                                                                                                                                                                                                                                              1,                                                                                                                                                                                                                                                                                                                                                                                                                   1,                                                                                                                                                                                                                                                                    1]])",
            "text/latex": "$\\displaystyle \\left[\\begin{matrix}\\frac{\\frac{\\sqrt[3]{18} \\left(-10752 - 10752 \\sqrt{3} i\\right) \\left(567 + 7 \\sqrt{36447} i\\right)^{\\frac{2}{3}}}{21168} + \\frac{\\sqrt[3]{567 + 7 \\sqrt{36447} i} \\left(448 \\cdot \\sqrt[3]{18} + \\sqrt[3]{7} \\cdot \\left(1 + \\sqrt{3} i\\right) \\left(12 + \\sqrt[3]{84} \\cdot \\left(1 + \\sqrt{3} i\\right) \\sqrt[3]{81 + \\sqrt{36447} i}\\right) \\sqrt[3]{81 + \\sqrt{36447} i}\\right)^{2}}{21168} + \\frac{\\left(-90 + \\left(-1 - \\sqrt{3} i\\right) \\sqrt[3]{6804 + 84 \\sqrt{36447} i}\\right) \\left(1 + \\sqrt{3} i\\right)^{2} \\cdot \\left(81 + \\sqrt{36447} i\\right)}{126}}{\\left(1 + \\sqrt{3} i\\right)^{2} \\cdot \\left(81 + \\sqrt{36447} i\\right)} & \\frac{\\frac{\\sqrt[3]{567 + 7 \\sqrt{36447} i} \\left(448 \\cdot \\sqrt[3]{18} + \\sqrt[3]{7} \\cdot \\left(1 - \\sqrt{3} i\\right) \\left(12 + \\sqrt[3]{84} \\cdot \\left(1 - \\sqrt{3} i\\right) \\sqrt[3]{81 + \\sqrt{36447} i}\\right) \\sqrt[3]{81 + \\sqrt{36447} i}\\right)^{2}}{21168} + \\frac{\\sqrt[3]{18} \\left(-10752 + 10752 \\sqrt{3} i\\right) \\left(567 + 7 \\sqrt{36447} i\\right)^{\\frac{2}{3}}}{21168} + \\frac{\\left(-90 + \\left(-1 + \\sqrt{3} i\\right) \\sqrt[3]{6804 + 84 \\sqrt{36447} i}\\right) \\left(1 - \\sqrt{3} i\\right)^{2} \\cdot \\left(81 + \\sqrt{36447} i\\right)}{126}}{\\left(1 - \\sqrt{3} i\\right)^{2} \\cdot \\left(81 + \\sqrt{36447} i\\right)} & \\frac{140 \\sqrt{36447} - 896 \\cdot \\sqrt[3]{84} i \\sqrt[3]{81 + \\sqrt{36447} i} - 11340 i - 32 \\cdot \\sqrt[3]{18} \\cdot 7^{\\frac{2}{3}} i \\left(81 + \\sqrt{36447} i\\right)^{\\frac{2}{3}} + 5 \\cdot \\sqrt[3]{882} i \\left(81 + \\sqrt{36447} i\\right)^{\\frac{2}{3}} + \\sqrt{12149} \\cdot \\sqrt[6]{3} \\cdot \\sqrt[3]{98} \\left(81 + \\sqrt{36447} i\\right)^{\\frac{2}{3}}}{126 \\left(\\sqrt{36447} - 81 i\\right)}\\\\\\frac{- 26880 \\cdot \\sqrt[3]{18} \\cdot 7^{\\frac{2}{3}} \\cdot \\left(1 + \\sqrt{3} i\\right) \\left(81 + \\sqrt{36447} i\\right)^{\\frac{2}{3}} - \\sqrt[3]{7} \\sqrt[3]{81 + \\sqrt{36447} i} \\left(448 \\cdot \\sqrt[3]{18} + \\sqrt[3]{7} \\cdot \\left(1 + \\sqrt{3} i\\right) \\left(12 + \\sqrt[3]{84} \\cdot \\left(1 + \\sqrt{3} i\\right) \\sqrt[3]{81 + \\sqrt{36447} i}\\right) \\sqrt[3]{81 + \\sqrt{36447} i}\\right)^{2} + 420 \\left(1 + \\sqrt{3} i\\right)^{2} \\cdot \\left(36 - \\sqrt[3]{84} \\cdot \\left(1 + \\sqrt{3} i\\right) \\sqrt[3]{81 + \\sqrt{36447} i}\\right) \\left(81 + \\sqrt{36447} i\\right)}{7056 \\left(1 + \\sqrt{3} i\\right)^{2} \\cdot \\left(81 + \\sqrt{36447} i\\right)} & \\frac{\\frac{5 \\left(1 - \\sqrt{3} i\\right)^{3} \\cdot \\left(36 + \\left(-1 + \\sqrt{3} i\\right) \\sqrt[3]{6804 + 84 \\sqrt{36447} i}\\right) \\left(81 + \\sqrt{36447} i\\right)}{84} - \\frac{80 \\cdot \\sqrt[3]{18} \\left(1 - \\sqrt{3} i\\right)^{2} \\left(567 + 7 \\sqrt{36447} i\\right)^{\\frac{2}{3}}}{21} + \\frac{\\left(-1 + \\sqrt{3} i\\right) \\sqrt[3]{567 + 7 \\sqrt{36447} i} \\left(448 \\cdot \\sqrt[3]{18} + \\sqrt[3]{7} \\cdot \\left(1 - \\sqrt{3} i\\right) \\left(12 + \\sqrt[3]{84} \\cdot \\left(1 - \\sqrt{3} i\\right) \\sqrt[3]{81 + \\sqrt{36447} i}\\right) \\sqrt[3]{81 + \\sqrt{36447} i}\\right)^{2}}{7056}}{\\left(1 - \\sqrt{3} i\\right)^{3} \\cdot \\left(81 + \\sqrt{36447} i\\right)} & \\frac{15}{7} + \\frac{40}{3 \\sqrt[3]{\\frac{63}{2} + \\frac{7 \\sqrt{36447} i}{18}}} - \\frac{\\left(-1 + \\frac{56}{3 \\sqrt[3]{\\frac{63}{2} + \\frac{7 \\sqrt{36447} i}{18}}} + \\sqrt[3]{\\frac{63}{2} + \\frac{7 \\sqrt{36447} i}{18}}\\right)^{2}}{7} + \\frac{5 \\sqrt[3]{\\frac{63}{2} + \\frac{7 \\sqrt{36447} i}{18}}}{7}\\\\1 & 1 & 1\\end{matrix}\\right]$"
          },
          "metadata": {}
        }
      ]
    },
    {
      "cell_type": "code",
      "source": "D",
      "metadata": {
        "trusted": true
      },
      "execution_count": 183,
      "outputs": [
        {
          "execution_count": 183,
          "output_type": "execute_result",
          "data": {
            "text/plain": "Matrix([\n[-1 + (-1/2 - sqrt(3)*I/2)*(63/2 + 7*sqrt(36447)*I/18)**(1/3) + 56/(3*(-1/2 - sqrt(3)*I/2)*(63/2 + 7*sqrt(36447)*I/18)**(1/3)),                                                                                                                             0,                                                                                   0],\n[                                                                                                                            0, -1 + 56/(3*(-1/2 + sqrt(3)*I/2)*(63/2 + 7*sqrt(36447)*I/18)**(1/3)) + (-1/2 + sqrt(3)*I/2)*(63/2 + 7*sqrt(36447)*I/18)**(1/3),                                                                                   0],\n[                                                                                                                            0,                                                                                                                             0, -1 + 56/(3*(63/2 + 7*sqrt(36447)*I/18)**(1/3)) + (63/2 + 7*sqrt(36447)*I/18)**(1/3)]])",
            "text/latex": "$\\displaystyle \\left[\\begin{matrix}-1 + \\left(- \\frac{1}{2} - \\frac{\\sqrt{3} i}{2}\\right) \\sqrt[3]{\\frac{63}{2} + \\frac{7 \\sqrt{36447} i}{18}} + \\frac{56}{3 \\left(- \\frac{1}{2} - \\frac{\\sqrt{3} i}{2}\\right) \\sqrt[3]{\\frac{63}{2} + \\frac{7 \\sqrt{36447} i}{18}}} & 0 & 0\\\\0 & -1 + \\frac{56}{3 \\left(- \\frac{1}{2} + \\frac{\\sqrt{3} i}{2}\\right) \\sqrt[3]{\\frac{63}{2} + \\frac{7 \\sqrt{36447} i}{18}}} + \\left(- \\frac{1}{2} + \\frac{\\sqrt{3} i}{2}\\right) \\sqrt[3]{\\frac{63}{2} + \\frac{7 \\sqrt{36447} i}{18}} & 0\\\\0 & 0 & -1 + \\frac{56}{3 \\sqrt[3]{\\frac{63}{2} + \\frac{7 \\sqrt{36447} i}{18}}} + \\sqrt[3]{\\frac{63}{2} + \\frac{7 \\sqrt{36447} i}{18}}\\end{matrix}\\right]$"
          },
          "metadata": {}
        }
      ]
    },
    {
      "cell_type": "code",
      "source": "P,D=C.diagonalize()",
      "metadata": {
        "trusted": true
      },
      "execution_count": 184,
      "outputs": []
    },
    {
      "cell_type": "code",
      "source": "P",
      "metadata": {
        "trusted": true
      },
      "execution_count": 185,
      "outputs": [
        {
          "execution_count": 185,
          "output_type": "execute_result",
          "data": {
            "text/plain": "Matrix([\n[(322*2**(1/3)*(1 + sqrt(3)*I)**2*(1055 + 45*sqrt(191719)*I)**(2/3)/45 + (-1 - sqrt(3)*I)*(1055 + 45*sqrt(191719)*I)**(1/3)*(3680*2**(1/3) + 5**(1/3)*(1 + sqrt(3)*I)*(32 + 2**(2/3)*5**(1/3)*(1 + sqrt(3)*I)*(211 + 9*sqrt(191719)*I)**(1/3))*(211 + 9*sqrt(191719)*I)**(1/3))**2/129600 + 7*(-28 + 2**(2/3)*(1 + sqrt(3)*I)*(1055 + 45*sqrt(191719)*I)**(1/3))*(1 + sqrt(3)*I)**3*(211 + 9*sqrt(191719)*I)/720)/((1 + sqrt(3)*I)**3*(211 + 9*sqrt(191719)*I)), (322*2**(1/3)*(1 - sqrt(3)*I)**2*(1055 + 45*sqrt(191719)*I)**(2/3)/45 + 7*(-28 + 2**(2/3)*(1 - sqrt(3)*I)*(1055 + 45*sqrt(191719)*I)**(1/3))*(1 - sqrt(3)*I)**3*(211 + 9*sqrt(191719)*I)/720 + (-1 + sqrt(3)*I)*(1055 + 45*sqrt(191719)*I)**(1/3)*(3680*2**(1/3) + 5**(1/3)*(1 - sqrt(3)*I)*(32 + 2**(2/3)*5**(1/3)*(1 - sqrt(3)*I)*(211 + 9*sqrt(191719)*I)**(1/3))*(211 + 9*sqrt(191719)*I)**(1/3))**2/129600)/((1 - sqrt(3)*I)**3*(211 + 9*sqrt(191719)*I)), -49/180 - 7*(1055/54 + 5*sqrt(191719)*I/6)**(1/3)/60 - (-8/3 + 460/(9*(1055/54 + 5*sqrt(191719)*I/6)**(1/3)) + (1055/54 + 5*sqrt(191719)*I/6)**(1/3))**2/180 - 161/(27*(1055/54 + 5*sqrt(191719)*I/6)**(1/3))],\n[      ((1 + sqrt(3)*I)**3*(68 + 2**(2/3)*(1 + sqrt(3)*I)*(1055 + 45*sqrt(191719)*I)**(1/3))*(211 + 9*sqrt(191719)*I)/160 + 23*2**(1/3)*(1 + sqrt(3)*I)**2*(1055 + 45*sqrt(191719)*I)**(2/3)/5 + (-1 - sqrt(3)*I)*(1055 + 45*sqrt(191719)*I)**(1/3)*(3680*2**(1/3) + 5**(1/3)*(1 + sqrt(3)*I)*(32 + 2**(2/3)*5**(1/3)*(1 + sqrt(3)*I)*(211 + 9*sqrt(191719)*I)**(1/3))*(211 + 9*sqrt(191719)*I)**(1/3))**2/86400)/((1 + sqrt(3)*I)**3*(211 + 9*sqrt(191719)*I)),       ((1 - sqrt(3)*I)**3*(68 + 2**(2/3)*(1 - sqrt(3)*I)*(1055 + 45*sqrt(191719)*I)**(1/3))*(211 + 9*sqrt(191719)*I)/160 + 23*2**(1/3)*(1 - sqrt(3)*I)**2*(1055 + 45*sqrt(191719)*I)**(2/3)/5 + (-1 + sqrt(3)*I)*(1055 + 45*sqrt(191719)*I)**(1/3)*(3680*2**(1/3) + 5**(1/3)*(1 - sqrt(3)*I)*(32 + 2**(2/3)*5**(1/3)*(1 - sqrt(3)*I)*(211 + 9*sqrt(191719)*I)**(1/3))*(211 + 9*sqrt(191719)*I)**(1/3))**2/86400)/((1 - sqrt(3)*I)**3*(211 + 9*sqrt(191719)*I)),     17/40 - 3*(1055/54 + 5*sqrt(191719)*I/6)**(1/3)/40 - (-8/3 + 460/(9*(1055/54 + 5*sqrt(191719)*I/6)**(1/3)) + (1055/54 + 5*sqrt(191719)*I/6)**(1/3))**2/120 - 23/(6*(1055/54 + 5*sqrt(191719)*I/6)**(1/3))],\n[                                                                                                                                                                                                                                                                                                                                                                                                                                                             1,                                                                                                                                                                                                                                                                                                                                                                                                                                                              1,                                                                                                                                                                                                             1]])",
            "text/latex": "$\\displaystyle \\left[\\begin{matrix}\\frac{\\frac{322 \\cdot \\sqrt[3]{2} \\left(1 + \\sqrt{3} i\\right)^{2} \\left(1055 + 45 \\sqrt{191719} i\\right)^{\\frac{2}{3}}}{45} + \\frac{\\left(-1 - \\sqrt{3} i\\right) \\sqrt[3]{1055 + 45 \\sqrt{191719} i} \\left(3680 \\cdot \\sqrt[3]{2} + \\sqrt[3]{5} \\cdot \\left(1 + \\sqrt{3} i\\right) \\left(32 + 2^{\\frac{2}{3}} \\cdot \\sqrt[3]{5} \\cdot \\left(1 + \\sqrt{3} i\\right) \\sqrt[3]{211 + 9 \\sqrt{191719} i}\\right) \\sqrt[3]{211 + 9 \\sqrt{191719} i}\\right)^{2}}{129600} + \\frac{7 \\left(-28 + 2^{\\frac{2}{3}} \\cdot \\left(1 + \\sqrt{3} i\\right) \\sqrt[3]{1055 + 45 \\sqrt{191719} i}\\right) \\left(1 + \\sqrt{3} i\\right)^{3} \\cdot \\left(211 + 9 \\sqrt{191719} i\\right)}{720}}{\\left(1 + \\sqrt{3} i\\right)^{3} \\cdot \\left(211 + 9 \\sqrt{191719} i\\right)} & \\frac{\\frac{322 \\cdot \\sqrt[3]{2} \\left(1 - \\sqrt{3} i\\right)^{2} \\left(1055 + 45 \\sqrt{191719} i\\right)^{\\frac{2}{3}}}{45} + \\frac{7 \\left(-28 + 2^{\\frac{2}{3}} \\cdot \\left(1 - \\sqrt{3} i\\right) \\sqrt[3]{1055 + 45 \\sqrt{191719} i}\\right) \\left(1 - \\sqrt{3} i\\right)^{3} \\cdot \\left(211 + 9 \\sqrt{191719} i\\right)}{720} + \\frac{\\left(-1 + \\sqrt{3} i\\right) \\sqrt[3]{1055 + 45 \\sqrt{191719} i} \\left(3680 \\cdot \\sqrt[3]{2} + \\sqrt[3]{5} \\cdot \\left(1 - \\sqrt{3} i\\right) \\left(32 + 2^{\\frac{2}{3}} \\cdot \\sqrt[3]{5} \\cdot \\left(1 - \\sqrt{3} i\\right) \\sqrt[3]{211 + 9 \\sqrt{191719} i}\\right) \\sqrt[3]{211 + 9 \\sqrt{191719} i}\\right)^{2}}{129600}}{\\left(1 - \\sqrt{3} i\\right)^{3} \\cdot \\left(211 + 9 \\sqrt{191719} i\\right)} & - \\frac{49}{180} - \\frac{7 \\sqrt[3]{\\frac{1055}{54} + \\frac{5 \\sqrt{191719} i}{6}}}{60} - \\frac{\\left(- \\frac{8}{3} + \\frac{460}{9 \\sqrt[3]{\\frac{1055}{54} + \\frac{5 \\sqrt{191719} i}{6}}} + \\sqrt[3]{\\frac{1055}{54} + \\frac{5 \\sqrt{191719} i}{6}}\\right)^{2}}{180} - \\frac{161}{27 \\sqrt[3]{\\frac{1055}{54} + \\frac{5 \\sqrt{191719} i}{6}}}\\\\\\frac{\\frac{\\left(1 + \\sqrt{3} i\\right)^{3} \\cdot \\left(68 + 2^{\\frac{2}{3}} \\cdot \\left(1 + \\sqrt{3} i\\right) \\sqrt[3]{1055 + 45 \\sqrt{191719} i}\\right) \\left(211 + 9 \\sqrt{191719} i\\right)}{160} + \\frac{23 \\cdot \\sqrt[3]{2} \\left(1 + \\sqrt{3} i\\right)^{2} \\left(1055 + 45 \\sqrt{191719} i\\right)^{\\frac{2}{3}}}{5} + \\frac{\\left(-1 - \\sqrt{3} i\\right) \\sqrt[3]{1055 + 45 \\sqrt{191719} i} \\left(3680 \\cdot \\sqrt[3]{2} + \\sqrt[3]{5} \\cdot \\left(1 + \\sqrt{3} i\\right) \\left(32 + 2^{\\frac{2}{3}} \\cdot \\sqrt[3]{5} \\cdot \\left(1 + \\sqrt{3} i\\right) \\sqrt[3]{211 + 9 \\sqrt{191719} i}\\right) \\sqrt[3]{211 + 9 \\sqrt{191719} i}\\right)^{2}}{86400}}{\\left(1 + \\sqrt{3} i\\right)^{3} \\cdot \\left(211 + 9 \\sqrt{191719} i\\right)} & \\frac{\\frac{\\left(1 - \\sqrt{3} i\\right)^{3} \\cdot \\left(68 + 2^{\\frac{2}{3}} \\cdot \\left(1 - \\sqrt{3} i\\right) \\sqrt[3]{1055 + 45 \\sqrt{191719} i}\\right) \\left(211 + 9 \\sqrt{191719} i\\right)}{160} + \\frac{23 \\cdot \\sqrt[3]{2} \\left(1 - \\sqrt{3} i\\right)^{2} \\left(1055 + 45 \\sqrt{191719} i\\right)^{\\frac{2}{3}}}{5} + \\frac{\\left(-1 + \\sqrt{3} i\\right) \\sqrt[3]{1055 + 45 \\sqrt{191719} i} \\left(3680 \\cdot \\sqrt[3]{2} + \\sqrt[3]{5} \\cdot \\left(1 - \\sqrt{3} i\\right) \\left(32 + 2^{\\frac{2}{3}} \\cdot \\sqrt[3]{5} \\cdot \\left(1 - \\sqrt{3} i\\right) \\sqrt[3]{211 + 9 \\sqrt{191719} i}\\right) \\sqrt[3]{211 + 9 \\sqrt{191719} i}\\right)^{2}}{86400}}{\\left(1 - \\sqrt{3} i\\right)^{3} \\cdot \\left(211 + 9 \\sqrt{191719} i\\right)} & \\frac{17}{40} - \\frac{3 \\sqrt[3]{\\frac{1055}{54} + \\frac{5 \\sqrt{191719} i}{6}}}{40} - \\frac{\\left(- \\frac{8}{3} + \\frac{460}{9 \\sqrt[3]{\\frac{1055}{54} + \\frac{5 \\sqrt{191719} i}{6}}} + \\sqrt[3]{\\frac{1055}{54} + \\frac{5 \\sqrt{191719} i}{6}}\\right)^{2}}{120} - \\frac{23}{6 \\sqrt[3]{\\frac{1055}{54} + \\frac{5 \\sqrt{191719} i}{6}}}\\\\1 & 1 & 1\\end{matrix}\\right]$"
          },
          "metadata": {}
        }
      ]
    },
    {
      "cell_type": "code",
      "source": "D",
      "metadata": {
        "trusted": true
      },
      "execution_count": 186,
      "outputs": [
        {
          "execution_count": 186,
          "output_type": "execute_result",
          "data": {
            "text/plain": "Matrix([\n[-8/3 + (-1/2 - sqrt(3)*I/2)*(1055/54 + 5*sqrt(191719)*I/6)**(1/3) + 460/(9*(-1/2 - sqrt(3)*I/2)*(1055/54 + 5*sqrt(191719)*I/6)**(1/3)),                                                                                                                                      0,                                                                                            0],\n[                                                                                                                                     0, -8/3 + 460/(9*(-1/2 + sqrt(3)*I/2)*(1055/54 + 5*sqrt(191719)*I/6)**(1/3)) + (-1/2 + sqrt(3)*I/2)*(1055/54 + 5*sqrt(191719)*I/6)**(1/3),                                                                                            0],\n[                                                                                                                                     0,                                                                                                                                      0, -8/3 + 460/(9*(1055/54 + 5*sqrt(191719)*I/6)**(1/3)) + (1055/54 + 5*sqrt(191719)*I/6)**(1/3)]])",
            "text/latex": "$\\displaystyle \\left[\\begin{matrix}- \\frac{8}{3} + \\left(- \\frac{1}{2} - \\frac{\\sqrt{3} i}{2}\\right) \\sqrt[3]{\\frac{1055}{54} + \\frac{5 \\sqrt{191719} i}{6}} + \\frac{460}{9 \\left(- \\frac{1}{2} - \\frac{\\sqrt{3} i}{2}\\right) \\sqrt[3]{\\frac{1055}{54} + \\frac{5 \\sqrt{191719} i}{6}}} & 0 & 0\\\\0 & - \\frac{8}{3} + \\frac{460}{9 \\left(- \\frac{1}{2} + \\frac{\\sqrt{3} i}{2}\\right) \\sqrt[3]{\\frac{1055}{54} + \\frac{5 \\sqrt{191719} i}{6}}} + \\left(- \\frac{1}{2} + \\frac{\\sqrt{3} i}{2}\\right) \\sqrt[3]{\\frac{1055}{54} + \\frac{5 \\sqrt{191719} i}{6}} & 0\\\\0 & 0 & - \\frac{8}{3} + \\frac{460}{9 \\sqrt[3]{\\frac{1055}{54} + \\frac{5 \\sqrt{191719} i}{6}}} + \\sqrt[3]{\\frac{1055}{54} + \\frac{5 \\sqrt{191719} i}{6}}\\end{matrix}\\right]$"
          },
          "metadata": {}
        }
      ]
    },
    {
      "cell_type": "code",
      "source": "def f(x):\n    return x*log(x)-12.34\n\ndef g(x):\n    return 1-log(x)\n\ndef newtonRaphson(x0,e,N):\n    print(\"\\n*****Newton Raphson Mtehod Implementation*****\")\n    step=1\n    flag=1\n    condition=true\n    while condition:\n        if g(x0)==0.0:\n            print(\"Divide by zero error\\n\");\n            break\n            \n        x1=x0-f(x0)/g(x0)\n        print('Iteration %d, x1 = %0.6f and f(x1) = %0.6f'%(step,x1,f(x1)))\n        x0=x1\n        step=step+1\n        \n        if step>N:\n            flag=0\n            break\n            \n        condition=abs(f(x1))>e\n        if flag==1:\n            print(\"Required root is %0.08f\"%x1)\n        else:\n            print('Not convergent\\n')\n            \nx0=input('Enter guess: ')\ne=input('tolerable error : ')\nn=input('maximum step : ')\n\nx0=float(x0)\ne=float(e)\nN=int(N)\n\nnewtonRaphson(x0,e,N)",
      "metadata": {
        "trusted": true
      },
      "execution_count": 192,
      "outputs": [
        {
          "ename": "<class 'TypeError'>",
          "evalue": "float() argument must be a string or a real number, not 'Future'",
          "traceback": [
            "\u001b[0;31m---------------------------------------------------------------------------\u001b[0m",
            "\u001b[0;31mTypeError\u001b[0m                                 Traceback (most recent call last)",
            "Cell \u001b[0;32mIn[192], line 36\u001b[0m\n\u001b[1;32m     33\u001b[0m e\u001b[38;5;241m=\u001b[39m\u001b[38;5;28minput\u001b[39m(\u001b[38;5;124m'\u001b[39m\u001b[38;5;124mtolerable error : \u001b[39m\u001b[38;5;124m'\u001b[39m)\n\u001b[1;32m     34\u001b[0m n\u001b[38;5;241m=\u001b[39m\u001b[38;5;28minput\u001b[39m(\u001b[38;5;124m'\u001b[39m\u001b[38;5;124mmaximum step : \u001b[39m\u001b[38;5;124m'\u001b[39m)\n\u001b[0;32m---> 36\u001b[0m x0\u001b[38;5;241m=\u001b[39m\u001b[38;5;28;43mfloat\u001b[39;49m\u001b[43m(\u001b[49m\u001b[43mx0\u001b[49m\u001b[43m)\u001b[49m\n\u001b[1;32m     37\u001b[0m e\u001b[38;5;241m=\u001b[39m\u001b[38;5;28mfloat\u001b[39m(e)\n\u001b[1;32m     38\u001b[0m N\u001b[38;5;241m=\u001b[39m\u001b[38;5;28mint\u001b[39m(N)\n",
            "\u001b[0;31mTypeError\u001b[0m: float() argument must be a string or a real number, not 'Future'"
          ],
          "output_type": "error"
        }
      ]
    },
    {
      "cell_type": "code",
      "source": "",
      "metadata": {},
      "execution_count": null,
      "outputs": []
    }
  ]
}