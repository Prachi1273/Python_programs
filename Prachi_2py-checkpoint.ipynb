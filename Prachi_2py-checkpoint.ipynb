{
 "cells": [
  {
   "cell_type": "code",
   "execution_count": 1,
   "id": "52caf5f2",
   "metadata": {},
   "outputs": [],
   "source": [
    "#Name : Prachi Barve\n",
    "#Tybsc 06\n",
    "# Assignment 2"
   ]
  },
  {
   "cell_type": "code",
   "execution_count": 2,
   "id": "cc0a932e",
   "metadata": {},
   "outputs": [],
   "source": [
    "#set A\n",
    "# Strings"
   ]
  },
  {
   "cell_type": "code",
   "execution_count": 3,
   "id": "2b2c4643",
   "metadata": {},
   "outputs": [
    {
     "name": "stdout",
     "output_type": "stream",
     "text": [
      "Enter Your String = \n",
      "madam\n",
      "Your String is not Symmetrical\n",
      "Your String is Palindrome\n"
     ]
    }
   ],
   "source": [
    "#1. Check String is Symmetrical or palindrome\n",
    "\n",
    "def symmetric(drr,len1):\n",
    "    count = 0\n",
    "    len2 = (int)(len1/2)\n",
    "    if(len1%2 ==0):\n",
    "        for i in range (len2):\n",
    "            if(drr[i] == drr[len2+i]):\n",
    "                count+=1\n",
    "        if(count == len2):\n",
    "            return(1)\n",
    "        else:\n",
    "            return(0)\n",
    "    else:\n",
    "        return(0)\n",
    "\n",
    "def Palindrome(drr,len1):\n",
    "    count = 0\n",
    "    len2 = (int)(len1/2)\n",
    "    for i in range(len2):\n",
    "        if(drr[i] == drr[(len1-1)-i]):\n",
    "            count +=1 \n",
    "    if(count == len2):\n",
    "        return(1)\n",
    "    else:\n",
    "        return(0)\n",
    "    \n",
    "\n",
    "str1=[]\n",
    "arr = input(\"Enter Your String = \\n\")\n",
    "length = len(arr)\n",
    "for i in range (length):\n",
    "    str1.append(arr[i])\n",
    "k=symmetric(str1,length)\n",
    "l=Palindrome(str1,length)\n",
    "if(k==1):\n",
    "    print(\"Your String is Symmetrical\")\n",
    "else:\n",
    "    print(\"Your String is not Symmetrical\")\n",
    "if(l==1):\n",
    "    print(\"Your String is Palindrome\")\n",
    "else:\n",
    "    print(\"Your String is not Palindrome\")   "
   ]
  },
  {
   "cell_type": "code",
   "execution_count": 9,
   "id": "f684a13d",
   "metadata": {},
   "outputs": [
    {
     "name": "stdout",
     "output_type": "stream",
     "text": [
      "Enter String : jupyter\n",
      "Reversed String is :  retypuj\n"
     ]
    }
   ],
   "source": [
    "#2 Reverse words in string\n",
    "\n",
    "def Reverse_str(str1):\n",
    "    rev=''\n",
    "    for i in str1:\n",
    "        rev = i + rev\n",
    "    return rev\n",
    "\n",
    "str1 = input(\"Enter String : \")\n",
    "print(\"Reversed String is : \",Reverse_str(str1))"
   ]
  },
  {
   "cell_type": "code",
   "execution_count": 3,
   "id": "744e9880",
   "metadata": {},
   "outputs": [
    {
     "name": "stdout",
     "output_type": "stream",
     "text": [
      "Enter String : python\n",
      "Enter character to remove : p\n",
      "ython\n"
     ]
    }
   ],
   "source": [
    "#3 Remove i'th character from string \n",
    "\n",
    "str1 = input(\"Enter String : \")\n",
    "\n",
    "ch = input(\"Enter character to remove : \")\n",
    "\n",
    "print(str1.replace(ch,''))"
   ]
  },
  {
   "cell_type": "code",
   "execution_count": 4,
   "id": "a00225ba",
   "metadata": {},
   "outputs": [],
   "source": [
    "#Functions"
   ]
  },
  {
   "cell_type": "code",
   "execution_count": 2,
   "id": "5fe23c5b",
   "metadata": {},
   "outputs": [
    {
     "name": "stdout",
     "output_type": "stream",
     "text": [
      "Enter First Number : 12\n",
      "Enter Second Number : 67\n",
      "Enter Third Number : 49\n",
      "Maximum number is :  67\n"
     ]
    }
   ],
   "source": [
    "#1 Find max of 3 numbers : \n",
    "\n",
    "no1 = int(input(\"Enter First Number : \"))\n",
    "no2 = int(input(\"Enter Second Number : \"))\n",
    "no3 = int(input(\"Enter Third Number : \"))\n",
    "\n",
    "print(\"Maximum number is : \",max(no1,no2,no3))"
   ]
  },
  {
   "cell_type": "code",
   "execution_count": 1,
   "id": "d8b1c41f",
   "metadata": {},
   "outputs": [
    {
     "name": "stdout",
     "output_type": "stream",
     "text": [
      "25\n",
      "35\n"
     ]
    }
   ],
   "source": [
    "#2 function to sum all the functions in list\n",
    "\n",
    "numbers = [1,2,3,4,5,1,4,5]\n",
    "\n",
    "Sum = sum(numbers)\n",
    "print(Sum)\n",
    "\n",
    "Sum = sum(numbers, 10)\n",
    "print(Sum)\n"
   ]
  },
  {
   "cell_type": "code",
   "execution_count": 1,
   "id": "1b6160a2",
   "metadata": {},
   "outputs": [
    {
     "name": "stdout",
     "output_type": "stream",
     "text": [
      "Enter String : Jupyter Notebook\n",
      "koobetoN retypuJ\n"
     ]
    }
   ],
   "source": [
    "# 3. Reverse String\n",
    "\n",
    "def my_function(x):\n",
    "  return x[::-1]\n",
    "\n",
    "str2 = input(\"Enter String : \")\n",
    "mytxt = my_function(str2)\n",
    "\n",
    "print(mytxt)"
   ]
  },
  {
   "cell_type": "code",
   "execution_count": 2,
   "id": "2516f992",
   "metadata": {},
   "outputs": [],
   "source": [
    "# Set B\n",
    "#String "
   ]
  },
  {
   "cell_type": "code",
   "execution_count": 6,
   "id": "a4b66699",
   "metadata": {},
   "outputs": [
    {
     "name": "stdout",
     "output_type": "stream",
     "text": [
      "Enter String : First python program\n",
      "python\n"
     ]
    }
   ],
   "source": [
    "# 1.print Even Length Words in String\n",
    "\n",
    "a = input(\"Enter String : \")\n",
    "\n",
    "a = a.split(\" \")\n",
    "for i in a:\n",
    "    if(len(i)%2==0):\n",
    "        print(i)"
   ]
  },
  {
   "cell_type": "code",
   "execution_count": 9,
   "id": "37b7ccd6",
   "metadata": {},
   "outputs": [
    {
     "name": "stdout",
     "output_type": "stream",
     "text": [
      "Enter String : aEiOuAeIoU\n",
      "Accepted\n",
      "Accepted\n",
      "Accepted\n",
      "Accepted\n",
      "Accepted\n",
      "Accepted\n",
      "Accepted\n",
      "Accepted\n",
      "Accepted\n",
      "Accepted\n"
     ]
    }
   ],
   "source": [
    "# 2. Accept String which contain all vowels\n",
    "\n",
    "def chkvwl(s):\n",
    "    vwl = ['a','e','i','o','u','A','E','I','O','U']\n",
    "    \n",
    "    for ch in s:\n",
    "        if ch not in vwl:\n",
    "            print(\"Not Accepted\")\n",
    "            break\n",
    "        else:\n",
    "            print(\"Accepted\")\n",
    "\n",
    "strng = input(\"Enter String : \")\n",
    "chkvwl(strng)"
   ]
  },
  {
   "cell_type": "code",
   "execution_count": 10,
   "id": "61d8edb9",
   "metadata": {},
   "outputs": [
    {
     "name": "stdout",
     "output_type": "stream",
     "text": [
      "Enter first string:Test String\n",
      "Enter second string:Checking\n",
      "The common letters are:\n",
      "e\n",
      "g\n",
      "n\n",
      "i\n"
     ]
    }
   ],
   "source": [
    "# 3. count number of matching characters in pair of string \n",
    "\n",
    "s1=input(\"Enter first string:\")\n",
    "s2=input(\"Enter second string:\")\n",
    "a=list(set(s1)&set(s2))\n",
    "print(\"The common letters are:\")\n",
    "for i in a:\n",
    "    print(i)"
   ]
  },
  {
   "cell_type": "code",
   "execution_count": 11,
   "id": "1137bf7d",
   "metadata": {},
   "outputs": [],
   "source": [
    "#Functions"
   ]
  },
  {
   "cell_type": "code",
   "execution_count": 12,
   "id": "7321b460",
   "metadata": {},
   "outputs": [
    {
     "name": "stdout",
     "output_type": "stream",
     "text": [
      "[1, 2, 3, 4, 5]\n"
     ]
    }
   ],
   "source": [
    "# 1. Write Function That Takes list and returns new list\n",
    "#  with unique elements of first list \n",
    "\n",
    "def unique_list(l):\n",
    "  x = []\n",
    "  for a in l:\n",
    "    if a not in x:\n",
    "      x.append(a)\n",
    "  return x\n",
    "\n",
    "print(unique_list([1,2,3,3,3,3,4,5])) "
   ]
  },
  {
   "cell_type": "code",
   "execution_count": 13,
   "id": "eaffae10",
   "metadata": {},
   "outputs": [
    {
     "name": "stdout",
     "output_type": "stream",
     "text": [
      "False\n"
     ]
    }
   ],
   "source": [
    "# 2. Write Function That takes no. of parameters and checks no. is prime or not\n",
    "\n",
    "def test_prime(n):\n",
    "    if (n==1):\n",
    "        return False\n",
    "    elif (n==2):\n",
    "        return True;\n",
    "    else:\n",
    "        for x in range(2,n):\n",
    "            if(n % x==0):\n",
    "                return False\n",
    "        return True             \n",
    "print(test_prime(9))"
   ]
  },
  {
   "cell_type": "code",
   "execution_count": 14,
   "id": "90953601",
   "metadata": {},
   "outputs": [
    {
     "name": "stdout",
     "output_type": "stream",
     "text": [
      "True\n"
     ]
    }
   ],
   "source": [
    "# 3. Check number is perfect or not\n",
    "\n",
    "def perfect_number(n):\n",
    "    sum = 0\n",
    "    for x in range(1, n):\n",
    "        if n % x == 0:\n",
    "            sum += x\n",
    "    return sum == n\n",
    "print(perfect_number(6))"
   ]
  },
  {
   "cell_type": "code",
   "execution_count": null,
   "id": "5ba7ae5e",
   "metadata": {},
   "outputs": [],
   "source": []
  }
 ],
 "metadata": {
  "kernelspec": {
   "display_name": "Python 3 (ipykernel)",
   "language": "python",
   "name": "python3"
  },
  "language_info": {
   "codemirror_mode": {
    "name": "ipython",
    "version": 3
   },
   "file_extension": ".py",
   "mimetype": "text/x-python",
   "name": "python",
   "nbconvert_exporter": "python",
   "pygments_lexer": "ipython3",
   "version": "3.11.4"
  }
 },
 "nbformat": 4,
 "nbformat_minor": 5
}
