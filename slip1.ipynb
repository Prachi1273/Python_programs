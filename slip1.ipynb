{
  "metadata": {
    "language_info": {
      "codemirror_mode": {
        "name": "python",
        "version": 3
      },
      "file_extension": ".py",
      "mimetype": "text/x-python",
      "name": "python",
      "nbconvert_exporter": "python",
      "pygments_lexer": "ipython3",
      "version": "3.8"
    },
    "kernelspec": {
      "name": "python",
      "display_name": "Python (Pyodide)",
      "language": "python"
    }
  },
  "nbformat_minor": 4,
  "nbformat": 4,
  "cells": [
    {
      "cell_type": "code",
      "source": "from math import*",
      "metadata": {
        "trusted": true
      },
      "execution_count": 1,
      "outputs": []
    },
    {
      "cell_type": "code",
      "source": "A=20%2+7-(3+7)*20/2",
      "metadata": {
        "trusted": true
      },
      "execution_count": 2,
      "outputs": []
    },
    {
      "cell_type": "code",
      "source": "print(A)",
      "metadata": {
        "trusted": true
      },
      "execution_count": 3,
      "outputs": [
        {
          "name": "stdout",
          "text": "-93.0\n",
          "output_type": "stream"
        }
      ]
    },
    {
      "cell_type": "code",
      "source": "B=30*10//3+10%3",
      "metadata": {
        "trusted": true
      },
      "execution_count": 4,
      "outputs": []
    },
    {
      "cell_type": "code",
      "source": "print(B)",
      "metadata": {
        "trusted": true
      },
      "execution_count": 5,
      "outputs": [
        {
          "name": "stdout",
          "text": "101\n",
          "output_type": "stream"
        }
      ]
    },
    {
      "cell_type": "code",
      "source": "c=2^5-2^4+4//4",
      "metadata": {
        "trusted": true
      },
      "execution_count": 6,
      "outputs": []
    },
    {
      "cell_type": "code",
      "source": "print(c)",
      "metadata": {
        "trusted": true
      },
      "execution_count": 7,
      "outputs": [
        {
          "name": "stdout",
          "text": "4\n",
          "output_type": "stream"
        }
      ]
    },
    {
      "cell_type": "code",
      "source": "string1=\"Python\"",
      "metadata": {
        "trusted": true
      },
      "execution_count": 8,
      "outputs": []
    },
    {
      "cell_type": "code",
      "source": "print(string1*9)",
      "metadata": {
        "trusted": true
      },
      "execution_count": 9,
      "outputs": [
        {
          "name": "stdout",
          "text": "PythonPythonPythonPythonPythonPythonPythonPythonPython\n",
          "output_type": "stream"
        }
      ]
    },
    {
      "cell_type": "code",
      "source": "string2=\"Mathematics \"",
      "metadata": {
        "trusted": true
      },
      "execution_count": 11,
      "outputs": []
    },
    {
      "cell_type": "code",
      "source": "print(string2*9)",
      "metadata": {
        "trusted": true
      },
      "execution_count": 12,
      "outputs": [
        {
          "name": "stdout",
          "text": "Mathematics Mathematics Mathematics Mathematics Mathematics Mathematics Mathematics Mathematics Mathematics \n",
          "output_type": "stream"
        }
      ]
    },
    {
      "cell_type": "code",
      "source": "from sympy import*",
      "metadata": {
        "trusted": true
      },
      "execution_count": 15,
      "outputs": []
    },
    {
      "cell_type": "code",
      "source": "eye(10)",
      "metadata": {
        "trusted": true
      },
      "execution_count": 16,
      "outputs": [
        {
          "execution_count": 16,
          "output_type": "execute_result",
          "data": {
            "text/plain": "Matrix([\n[1, 0, 0, 0, 0, 0, 0, 0, 0, 0],\n[0, 1, 0, 0, 0, 0, 0, 0, 0, 0],\n[0, 0, 1, 0, 0, 0, 0, 0, 0, 0],\n[0, 0, 0, 1, 0, 0, 0, 0, 0, 0],\n[0, 0, 0, 0, 1, 0, 0, 0, 0, 0],\n[0, 0, 0, 0, 0, 1, 0, 0, 0, 0],\n[0, 0, 0, 0, 0, 0, 1, 0, 0, 0],\n[0, 0, 0, 0, 0, 0, 0, 1, 0, 0],\n[0, 0, 0, 0, 0, 0, 0, 0, 1, 0],\n[0, 0, 0, 0, 0, 0, 0, 0, 0, 1]])",
            "text/latex": "$\\displaystyle \\left[\\begin{matrix}1 & 0 & 0 & 0 & 0 & 0 & 0 & 0 & 0 & 0\\\\0 & 1 & 0 & 0 & 0 & 0 & 0 & 0 & 0 & 0\\\\0 & 0 & 1 & 0 & 0 & 0 & 0 & 0 & 0 & 0\\\\0 & 0 & 0 & 1 & 0 & 0 & 0 & 0 & 0 & 0\\\\0 & 0 & 0 & 0 & 1 & 0 & 0 & 0 & 0 & 0\\\\0 & 0 & 0 & 0 & 0 & 1 & 0 & 0 & 0 & 0\\\\0 & 0 & 0 & 0 & 0 & 0 & 1 & 0 & 0 & 0\\\\0 & 0 & 0 & 0 & 0 & 0 & 0 & 1 & 0 & 0\\\\0 & 0 & 0 & 0 & 0 & 0 & 0 & 0 & 1 & 0\\\\0 & 0 & 0 & 0 & 0 & 0 & 0 & 0 & 0 & 1\\end{matrix}\\right]$"
          },
          "metadata": {}
        }
      ]
    },
    {
      "cell_type": "code",
      "source": "zeros(7,3)",
      "metadata": {
        "trusted": true
      },
      "execution_count": 17,
      "outputs": [
        {
          "execution_count": 17,
          "output_type": "execute_result",
          "data": {
            "text/plain": "Matrix([\n[0, 0, 0],\n[0, 0, 0],\n[0, 0, 0],\n[0, 0, 0],\n[0, 0, 0],\n[0, 0, 0],\n[0, 0, 0]])",
            "text/latex": "$\\displaystyle \\left[\\begin{matrix}0 & 0 & 0\\\\0 & 0 & 0\\\\0 & 0 & 0\\\\0 & 0 & 0\\\\0 & 0 & 0\\\\0 & 0 & 0\\\\0 & 0 & 0\\end{matrix}\\right]$"
          },
          "metadata": {}
        }
      ]
    },
    {
      "cell_type": "code",
      "source": "ones(5,4)",
      "metadata": {
        "trusted": true
      },
      "execution_count": 18,
      "outputs": [
        {
          "execution_count": 18,
          "output_type": "execute_result",
          "data": {
            "text/plain": "Matrix([\n[1, 1, 1, 1],\n[1, 1, 1, 1],\n[1, 1, 1, 1],\n[1, 1, 1, 1],\n[1, 1, 1, 1]])",
            "text/latex": "$\\displaystyle \\left[\\begin{matrix}1 & 1 & 1 & 1\\\\1 & 1 & 1 & 1\\\\1 & 1 & 1 & 1\\\\1 & 1 & 1 & 1\\\\1 & 1 & 1 & 1\\end{matrix}\\right]$"
          },
          "metadata": {}
        }
      ]
    },
    {
      "cell_type": "code",
      "source": "n=1\nwhile n<=10:\n    print(n ,'\\t',n**2)\n    n+=1",
      "metadata": {
        "trusted": true
      },
      "execution_count": 21,
      "outputs": [
        {
          "name": "stdout",
          "text": "1 \t 1\n2 \t 4\n3 \t 9\n4 \t 16\n5 \t 25\n6 \t 36\n7 \t 49\n8 \t 64\n9 \t 81\n10 \t 100\n",
          "output_type": "stream"
        }
      ]
    },
    {
      "cell_type": "code",
      "source": "n=1\nwhile n<=10:\n    print(n, '\\t',n**2)\n    n+=1",
      "metadata": {
        "trusted": true
      },
      "execution_count": 23,
      "outputs": [
        {
          "name": "stdout",
          "text": "1 \t 1\n2 \t 4\n3 \t 9\n4 \t 16\n5 \t 25\n6 \t 36\n7 \t 49\n8 \t 64\n9 \t 81\n10 \t 100\n",
          "output_type": "stream"
        }
      ]
    },
    {
      "cell_type": "code",
      "source": "n=1\nwhile n<=10:\n    print(n ,'\\t' ,n**3)\n    n=n+1",
      "metadata": {
        "trusted": true
      },
      "execution_count": 24,
      "outputs": [
        {
          "name": "stdout",
          "text": "1 \t 1\n2 \t 8\n3 \t 27\n4 \t 64\n5 \t 125\n6 \t 216\n7 \t 343\n8 \t 512\n9 \t 729\n10 \t 1000\n",
          "output_type": "stream"
        }
      ]
    },
    {
      "cell_type": "code",
      "source": "n=10 \nprint(n ,'\\t',n**2+n)",
      "metadata": {
        "trusted": true
      },
      "execution_count": 26,
      "outputs": [
        {
          "name": "stdout",
          "text": "10 \t 110\n",
          "output_type": "stream"
        }
      ]
    },
    {
      "cell_type": "code",
      "source": "primes = []\nfor i in range (2,101):\n    if all(i%p for p in primes):\n        print(i)\n        primes.append(i)",
      "metadata": {
        "trusted": true
      },
      "execution_count": 27,
      "outputs": [
        {
          "name": "stdout",
          "text": "2\n3\n5\n7\n11\n13\n17\n19\n23\n29\n31\n37\n41\n43\n47\n53\n59\n61\n67\n71\n73\n79\n83\n89\n97\n",
          "output_type": "stream"
        }
      ]
    },
    {
      "cell_type": "code",
      "source": "primes=[]\nfor i in range (2,101):\n    if all(i%p for p in primes):\n        print(i)\n        primes.append(i)",
      "metadata": {
        "trusted": true
      },
      "execution_count": 32,
      "outputs": [
        {
          "name": "stdout",
          "text": "2\n3\n5\n7\n11\n13\n17\n19\n23\n29\n31\n37\n41\n43\n47\n53\n59\n61\n67\n71\n73\n79\n83\n89\n97\n",
          "output_type": "stream"
        }
      ]
    },
    {
      "cell_type": "code",
      "source": "primes=[]\nfor i in range (2,101):\n    if all(i%p for p in  primes):\n        print(i)\n        primes.append(i)",
      "metadata": {
        "trusted": true
      },
      "execution_count": 34,
      "outputs": [
        {
          "name": "stdout",
          "text": "2\n3\n5\n7\n11\n13\n17\n19\n23\n29\n31\n37\n41\n43\n47\n53\n59\n61\n67\n71\n73\n79\n83\n89\n97\n",
          "output_type": "stream"
        }
      ]
    },
    {
      "cell_type": "code",
      "source": "primes=[]\nfor i in range (2,101):\n    if all(i%p for p in primes):\n        print(i)\n        primes.append(i)",
      "metadata": {
        "trusted": true
      },
      "execution_count": 35,
      "outputs": [
        {
          "name": "stdout",
          "text": "2\n3\n5\n7\n11\n13\n17\n19\n23\n29\n31\n37\n41\n43\n47\n53\n59\n61\n67\n71\n73\n79\n83\n89\n97\n",
          "output_type": "stream"
        }
      ]
    },
    {
      "cell_type": "code",
      "source": "from sympy import*",
      "metadata": {
        "trusted": true
      },
      "execution_count": 46,
      "outputs": []
    },
    {
      "cell_type": "code",
      "source": "def simpsons13(f,a,b,n):\n    h = float(b-a) /n\n    \n    result = f(a)+f(b)\n    \n    for i in range(1,n):\n        k=a+i*h\n        \n        if i%2 == 0:\n            result = result + 2 * f(k)\n        else:\n            result = result+2*f(k)\n            \n    result = (h/3)*result\n    \n    return(result)\nfrom math import*\ndef f(x):\n    return sin(x)\nsimpsons13(f,0,3.142,6)",
      "metadata": {
        "trusted": true
      },
      "execution_count": 47,
      "outputs": [
        {
          "execution_count": 38,
          "output_type": "execute_result",
          "data": {
            "text/plain": "1.3027234619213461"
          },
          "metadata": {}
        }
      ]
    },
    {
      "cell_type": "code",
      "source": "",
      "metadata": {},
      "execution_count": null,
      "outputs": []
    }
  ]
}