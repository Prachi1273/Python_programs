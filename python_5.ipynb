{
 "cells": [
  {
   "cell_type": "code",
   "execution_count": 1,
   "id": "6775aa57",
   "metadata": {},
   "outputs": [],
   "source": [
    "#Name = Prachi Barve\n",
    "#Tybsc06\n",
    "#Assignment 5"
   ]
  },
  {
   "cell_type": "code",
   "execution_count": 2,
   "id": "57adb5f6",
   "metadata": {},
   "outputs": [],
   "source": [
    "# Set A"
   ]
  },
  {
   "cell_type": "code",
   "execution_count": 4,
   "id": "4ce5a401",
   "metadata": {},
   "outputs": [
    {
     "name": "stdout",
     "output_type": "stream",
     "text": [
      "The division by zero operation is not allowed.\n"
     ]
    }
   ],
   "source": [
    "# 1\n",
    "def divide_numbers(x, y):\n",
    "    try:\n",
    "        result = x / y\n",
    "        print(\"Result:\", result)\n",
    "    except ZeroDivisionError:\n",
    "        print(\"The division by zero operation is not allowed.\")\n",
    "\n",
    "numerator = 100\n",
    "denominator = 0\n",
    "divide_numbers(numerator, denominator)\n"
   ]
  },
  {
   "cell_type": "code",
   "execution_count": 7,
   "id": "48301cd1",
   "metadata": {},
   "outputs": [
    {
     "name": "stdout",
     "output_type": "stream",
     "text": [
      "Simple program for showing overflow error\n",
      "\n",
      "\n",
      "The exponential value is\n",
      "OverflowError: math range error\n"
     ]
    }
   ],
   "source": [
    "import math\n",
    "\n",
    "print(\"Simple program for showing overflow error\")\n",
    "print(\"\\n\")\n",
    "try :\n",
    "    print(\"The exponential value is\")\n",
    "    print(math.exp(1000))\n",
    "except:\n",
    "    print(\"OverflowError: math range error\")"
   ]
  },
  {
   "cell_type": "code",
   "execution_count": 8,
   "id": "b642443f",
   "metadata": {},
   "outputs": [
    {
     "name": "stdout",
     "output_type": "stream",
     "text": [
      "Found a match!\n",
      "Not matched!\n",
      "Not matched!\n"
     ]
    }
   ],
   "source": [
    "# 2\n",
    "import re\n",
    "def text_match(text):\n",
    "        patterns = '^[a-z]+_[a-z]+$'\n",
    "        if re.search(patterns,  text):\n",
    "                return 'Found a match!'\n",
    "        else:\n",
    "                return('Not matched!')\n",
    "\n",
    "print(text_match(\"aab_cbbbc\"))\n",
    "print(text_match(\"aab_Abbbc\"))\n",
    "print(text_match(\"Aaab_abbbc\"))"
   ]
  },
  {
   "cell_type": "code",
   "execution_count": 9,
   "id": "41e5fe1a",
   "metadata": {},
   "outputs": [
    {
     "name": "stdout",
     "output_type": "stream",
     "text": [
      "valid string\n",
      "invalid string\n",
      "invalid string\n"
     ]
    }
   ],
   "source": [
    "# 3\n",
    "import re\n",
    "def match(str,pattern):\n",
    "  if re.search(pattern,str):\n",
    "    print(\"valid string\")\n",
    "  else:\n",
    "    print(\"invalid string\")\n",
    "\n",
    "pattern = re.compile('[A-Z]+$')\n",
    "match('ABCDE',pattern)\n",
    "match('12ABCda',pattern)\n",
    "match('12345',pattern)"
   ]
  },
  {
   "cell_type": "code",
   "execution_count": 10,
   "id": "6e041691",
   "metadata": {},
   "outputs": [],
   "source": [
    "# Set B"
   ]
  },
  {
   "cell_type": "code",
   "execution_count": 11,
   "id": "869fe3fc",
   "metadata": {},
   "outputs": [
    {
     "name": "stdout",
     "output_type": "stream",
     "text": [
      "obj has attribute 'attr1'\n",
      "obj does not have attribute 'attr3'\n"
     ]
    }
   ],
   "source": [
    "# 1\n",
    "class MyClass:\n",
    "    def __init__(self):\n",
    "        self.attr1 = 1\n",
    "        self.attr2 = 2\n",
    "\n",
    "obj = MyClass()\n",
    "\n",
    "try:\n",
    "    getattr(obj, \"attr1\")\n",
    "    print(\"obj has attribute 'attr1'\")\n",
    "except AttributeError:\n",
    "    print(\"obj does not have attribute 'attr1'\")\n",
    "\n",
    "try:\n",
    "    getattr(obj, \"attr3\")\n",
    "    print(\"obj has attribute 'attr3'\")\n",
    "except AttributeError:\n",
    "    print(\"obj does not have attribute 'attr3'\")"
   ]
  },
  {
   "cell_type": "code",
   "execution_count": 12,
   "id": "d183a326",
   "metadata": {},
   "outputs": [
    {
     "name": "stdout",
     "output_type": "stream",
     "text": [
      "There are two children these playing in the park\n"
     ]
    }
   ],
   "source": [
    "# 2\n",
    "from collections import Counter \n",
    "def remove_duplicate(s):\n",
    "\n",
    "    s = s.split(\" \")\n",
    "    word_dic = Counter(s)\n",
    "    result = \" \".join(word_dic.keys())\n",
    "    print (result)\n",
    " \n",
    "st = 'There are two children these two children are playing in the park'\n",
    "remove_duplicate(st)"
   ]
  },
  {
   "cell_type": "code",
   "execution_count": 13,
   "id": "94c32ad4",
   "metadata": {},
   "outputs": [
    {
     "name": "stdout",
     "output_type": "stream",
     "text": [
      "The string is : \n",
      "python123:, .@! abc\n",
      "The expected string is :\n",
      "python123abc\n"
     ]
    }
   ],
   "source": [
    "# 3\n",
    "import re\n",
    "\n",
    "my_string = \"python123:, .@! abc\"\n",
    "\n",
    "print (\"The string is : \")\n",
    "print(my_string)\n",
    "\n",
    "result = re.sub('[\\W_]+', '', my_string)\n",
    "\n",
    "print (\"The expected string is :\")\n",
    "print(result)"
   ]
  }
 ],
 "metadata": {
  "kernelspec": {
   "display_name": "Python 3 (ipykernel)",
   "language": "python",
   "name": "python3"
  },
  "language_info": {
   "codemirror_mode": {
    "name": "ipython",
    "version": 3
   },
   "file_extension": ".py",
   "mimetype": "text/x-python",
   "name": "python",
   "nbconvert_exporter": "python",
   "pygments_lexer": "ipython3",
   "version": "3.11.4"
  }
 },
 "nbformat": 4,
 "nbformat_minor": 5
}
