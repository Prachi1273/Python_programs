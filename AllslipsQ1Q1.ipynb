{
  "metadata": {
    "language_info": {
      "codemirror_mode": {
        "name": "python",
        "version": 3
      },
      "file_extension": ".py",
      "mimetype": "text/x-python",
      "name": "python",
      "nbconvert_exporter": "python",
      "pygments_lexer": "ipython3",
      "version": "3.8"
    },
    "kernelspec": {
      "name": "python",
      "display_name": "Python (Pyodide)",
      "language": "python"
    }
  },
  "nbformat_minor": 4,
  "nbformat": 4,
  "cells": [
    {
      "cell_type": "code",
      "source": "from sympy import*",
      "metadata": {
        "trusted": true
      },
      "execution_count": 2,
      "outputs": []
    },
    {
      "cell_type": "code",
      "source": "#20 modulus 2 + 7 - (3 +7) × 20 ÷ 2",
      "metadata": {
        "trusted": true
      },
      "execution_count": 1,
      "outputs": []
    },
    {
      "cell_type": "code",
      "source": "a=20%2+7-(3+7)*20/2",
      "metadata": {
        "trusted": true
      },
      "execution_count": 3,
      "outputs": []
    },
    {
      "cell_type": "code",
      "source": "print(a)",
      "metadata": {
        "trusted": true
      },
      "execution_count": 4,
      "outputs": [
        {
          "name": "stdout",
          "text": "-93.0\n",
          "output_type": "stream"
        }
      ]
    },
    {
      "cell_type": "code",
      "source": "#. 30 × 10 floor division 3 + 10 modulus 3\nb=30*10//3+10%3",
      "metadata": {
        "trusted": true
      },
      "execution_count": 5,
      "outputs": []
    },
    {
      "cell_type": "code",
      "source": "print(b)",
      "metadata": {
        "trusted": true
      },
      "execution_count": 6,
      "outputs": [
        {
          "name": "stdout",
          "text": "101\n",
          "output_type": "stream"
        }
      ]
    },
    {
      "cell_type": "code",
      "source": "c=2^5-2^4+4//4",
      "metadata": {
        "trusted": true
      },
      "execution_count": 7,
      "outputs": []
    },
    {
      "cell_type": "code",
      "source": "print(c)",
      "metadata": {
        "trusted": true
      },
      "execution_count": 8,
      "outputs": [
        {
          "name": "stdout",
          "text": "4\n",
          "output_type": "stream"
        }
      ]
    },
    {
      "cell_type": "code",
      "source": "print(\"Python \"*9)",
      "metadata": {
        "trusted": true
      },
      "execution_count": 10,
      "outputs": [
        {
          "name": "stdout",
          "text": "Python Python Python Python Python Python Python Python Python \n",
          "output_type": "stream"
        }
      ]
    },
    {
      "cell_type": "code",
      "source": "print(\"Mathematics \"*9)",
      "metadata": {
        "trusted": true
      },
      "execution_count": 11,
      "outputs": [
        {
          "name": "stdout",
          "text": "Mathematics Mathematics Mathematics Mathematics Mathematics Mathematics Mathematics Mathematics Mathematics \n",
          "output_type": "stream"
        }
      ]
    },
    {
      "cell_type": "code",
      "source": "n=1\nwhile n<=10:\n    print(n , '\\t',n**2)\n    n=n+1",
      "metadata": {
        "trusted": true
      },
      "execution_count": 12,
      "outputs": [
        {
          "name": "stdout",
          "text": "1 \t 1\n2 \t 4\n3 \t 9\n4 \t 16\n5 \t 25\n6 \t 36\n7 \t 49\n8 \t 64\n9 \t 81\n10 \t 100\n",
          "output_type": "stream"
        }
      ]
    },
    {
      "cell_type": "code",
      "source": "eye(10)",
      "metadata": {
        "trusted": true
      },
      "execution_count": 13,
      "outputs": [
        {
          "execution_count": 13,
          "output_type": "execute_result",
          "data": {
            "text/plain": "Matrix([\n[1, 0, 0, 0, 0, 0, 0, 0, 0, 0],\n[0, 1, 0, 0, 0, 0, 0, 0, 0, 0],\n[0, 0, 1, 0, 0, 0, 0, 0, 0, 0],\n[0, 0, 0, 1, 0, 0, 0, 0, 0, 0],\n[0, 0, 0, 0, 1, 0, 0, 0, 0, 0],\n[0, 0, 0, 0, 0, 1, 0, 0, 0, 0],\n[0, 0, 0, 0, 0, 0, 1, 0, 0, 0],\n[0, 0, 0, 0, 0, 0, 0, 1, 0, 0],\n[0, 0, 0, 0, 0, 0, 0, 0, 1, 0],\n[0, 0, 0, 0, 0, 0, 0, 0, 0, 1]])",
            "text/latex": "$\\displaystyle \\left[\\begin{matrix}1 & 0 & 0 & 0 & 0 & 0 & 0 & 0 & 0 & 0\\\\0 & 1 & 0 & 0 & 0 & 0 & 0 & 0 & 0 & 0\\\\0 & 0 & 1 & 0 & 0 & 0 & 0 & 0 & 0 & 0\\\\0 & 0 & 0 & 1 & 0 & 0 & 0 & 0 & 0 & 0\\\\0 & 0 & 0 & 0 & 1 & 0 & 0 & 0 & 0 & 0\\\\0 & 0 & 0 & 0 & 0 & 1 & 0 & 0 & 0 & 0\\\\0 & 0 & 0 & 0 & 0 & 0 & 1 & 0 & 0 & 0\\\\0 & 0 & 0 & 0 & 0 & 0 & 0 & 1 & 0 & 0\\\\0 & 0 & 0 & 0 & 0 & 0 & 0 & 0 & 1 & 0\\\\0 & 0 & 0 & 0 & 0 & 0 & 0 & 0 & 0 & 1\\end{matrix}\\right]$"
          },
          "metadata": {}
        }
      ]
    },
    {
      "cell_type": "code",
      "source": "zeros(7,3)",
      "metadata": {
        "trusted": true
      },
      "execution_count": 14,
      "outputs": [
        {
          "execution_count": 14,
          "output_type": "execute_result",
          "data": {
            "text/plain": "Matrix([\n[0, 0, 0],\n[0, 0, 0],\n[0, 0, 0],\n[0, 0, 0],\n[0, 0, 0],\n[0, 0, 0],\n[0, 0, 0]])",
            "text/latex": "$\\displaystyle \\left[\\begin{matrix}0 & 0 & 0\\\\0 & 0 & 0\\\\0 & 0 & 0\\\\0 & 0 & 0\\\\0 & 0 & 0\\\\0 & 0 & 0\\\\0 & 0 & 0\\end{matrix}\\right]$"
          },
          "metadata": {}
        }
      ]
    },
    {
      "cell_type": "code",
      "source": "ones(5,4)",
      "metadata": {
        "trusted": true
      },
      "execution_count": 15,
      "outputs": [
        {
          "execution_count": 15,
          "output_type": "execute_result",
          "data": {
            "text/plain": "Matrix([\n[1, 1, 1, 1],\n[1, 1, 1, 1],\n[1, 1, 1, 1],\n[1, 1, 1, 1],\n[1, 1, 1, 1]])",
            "text/latex": "$\\displaystyle \\left[\\begin{matrix}1 & 1 & 1 & 1\\\\1 & 1 & 1 & 1\\\\1 & 1 & 1 & 1\\\\1 & 1 & 1 & 1\\\\1 & 1 & 1 & 1\\end{matrix}\\right]$"
          },
          "metadata": {}
        }
      ]
    },
    {
      "cell_type": "code",
      "source": "n=1\nwhile n<=10:\n    print(n ,'\\t',n**2+n)\n    n=n+1",
      "metadata": {
        "trusted": true
      },
      "execution_count": 17,
      "outputs": [
        {
          "name": "stdout",
          "text": "1 \t 2\n2 \t 6\n3 \t 12\n4 \t 20\n5 \t 30\n6 \t 42\n7 \t 56\n8 \t 72\n9 \t 90\n10 \t 110\n",
          "output_type": "stream"
        }
      ]
    },
    {
      "cell_type": "code",
      "source": "primes =[]\nfor i in range(2,101):\n    if all(i%p for p in  primes):\n        print(i)\n        primes.append(i)",
      "metadata": {
        "trusted": true
      },
      "execution_count": 20,
      "outputs": [
        {
          "name": "stdout",
          "text": "2\n3\n5\n7\n11\n13\n17\n19\n23\n29\n31\n37\n41\n43\n47\n53\n59\n61\n67\n71\n73\n79\n83\n89\n97\n",
          "output_type": "stream"
        }
      ]
    },
    {
      "cell_type": "code",
      "source": "r=7\npi = 3.142\nv=4/3*pi*r**3\nprint(\"The volume of sphere with r=7 is\",v)",
      "metadata": {
        "trusted": true
      },
      "execution_count": 21,
      "outputs": [
        {
          "name": "stdout",
          "text": "The volume of sphere with r=7 is 1436.9413333333332\n",
          "output_type": "stream"
        }
      ]
    },
    {
      "cell_type": "code",
      "source": "string1 = \"Hello \"\nstring2 = \"World! \"",
      "metadata": {
        "trusted": true
      },
      "execution_count": 22,
      "outputs": []
    },
    {
      "cell_type": "code",
      "source": "string1+string2",
      "metadata": {
        "trusted": true
      },
      "execution_count": 23,
      "outputs": [
        {
          "execution_count": 23,
          "output_type": "execute_result",
          "data": {
            "text/plain": "'Hello World! '"
          },
          "metadata": {}
        }
      ]
    },
    {
      "cell_type": "code",
      "source": "string1 = \"Good \"\nstring2 = \"Morning\"",
      "metadata": {
        "trusted": true
      },
      "execution_count": 24,
      "outputs": []
    },
    {
      "cell_type": "code",
      "source": "string1+string2",
      "metadata": {
        "trusted": true
      },
      "execution_count": 25,
      "outputs": [
        {
          "execution_count": 25,
          "output_type": "execute_result",
          "data": {
            "text/plain": "'Good Morning'"
          },
          "metadata": {}
        }
      ]
    },
    {
      "cell_type": "code",
      "source": "n=20\nwhile n<=30:\n    print(n,'\\t',n**2)\n    n=n+1",
      "metadata": {
        "trusted": true
      },
      "execution_count": 26,
      "outputs": [
        {
          "name": "stdout",
          "text": "20 \t 400\n21 \t 441\n22 \t 484\n23 \t 529\n24 \t 576\n25 \t 625\n26 \t 676\n27 \t 729\n28 \t 784\n29 \t 841\n30 \t 900\n",
          "output_type": "stream"
        }
      ]
    },
    {
      "cell_type": "code",
      "source": "def f(x):\n    return x**2-5*x+6",
      "metadata": {
        "trusted": true
      },
      "execution_count": 27,
      "outputs": []
    },
    {
      "cell_type": "code",
      "source": "f(-2)",
      "metadata": {
        "trusted": true
      },
      "execution_count": 28,
      "outputs": [
        {
          "execution_count": 28,
          "output_type": "execute_result",
          "data": {
            "text/plain": "20"
          },
          "metadata": {}
        }
      ]
    },
    {
      "cell_type": "code",
      "source": "f(0)",
      "metadata": {
        "trusted": true
      },
      "execution_count": 29,
      "outputs": [
        {
          "execution_count": 29,
          "output_type": "execute_result",
          "data": {
            "text/plain": "6"
          },
          "metadata": {}
        }
      ]
    },
    {
      "cell_type": "code",
      "source": "f(2)",
      "metadata": {
        "trusted": true
      },
      "execution_count": 30,
      "outputs": [
        {
          "execution_count": 30,
          "output_type": "execute_result",
          "data": {
            "text/plain": "0"
          },
          "metadata": {}
        }
      ]
    },
    {
      "cell_type": "code",
      "source": "n=1\nwhile n<=10:\n    print(n,'\\t',n**3+5*n)\n    n=n+1",
      "metadata": {
        "trusted": true
      },
      "execution_count": 31,
      "outputs": [
        {
          "name": "stdout",
          "text": "1 \t 6\n2 \t 18\n3 \t 42\n4 \t 84\n5 \t 150\n6 \t 246\n7 \t 378\n8 \t 552\n9 \t 774\n10 \t 1050\n",
          "output_type": "stream"
        }
      ]
    },
    {
      "cell_type": "code",
      "source": "A=Matrix([[4,2,2],[2,4,2],[2,2,4]])",
      "metadata": {
        "trusted": true
      },
      "execution_count": 32,
      "outputs": []
    },
    {
      "cell_type": "code",
      "source": "print(A)",
      "metadata": {
        "trusted": true
      },
      "execution_count": 33,
      "outputs": [
        {
          "name": "stdout",
          "text": "Matrix([[4, 2, 2], [2, 4, 2], [2, 2, 4]])\n",
          "output_type": "stream"
        }
      ]
    },
    {
      "cell_type": "code",
      "source": "A.eigenvects()",
      "metadata": {
        "trusted": true
      },
      "execution_count": 34,
      "outputs": [
        {
          "execution_count": 34,
          "output_type": "execute_result",
          "data": {
            "text/plain": "[(2,\n  2,\n  [Matrix([\n   [-1],\n   [ 1],\n   [ 0]]),\n   Matrix([\n   [-1],\n   [ 0],\n   [ 1]])]),\n (8,\n  1,\n  [Matrix([\n   [1],\n   [1],\n   [1]])])]"
          },
          "metadata": {}
        }
      ]
    },
    {
      "cell_type": "code",
      "source": "A.eigenvals()",
      "metadata": {
        "trusted": true
      },
      "execution_count": 35,
      "outputs": [
        {
          "execution_count": 35,
          "output_type": "execute_result",
          "data": {
            "text/plain": "{8: 1, 2: 2}"
          },
          "metadata": {}
        }
      ]
    },
    {
      "cell_type": "code",
      "source": "def f(n):\n    n^1\n    \n    if n%2==0:\n        print(\"Divisible by 2\\n\")\n        else :\n            if n%3==0:\n                print(\"Divisible by 3\\n\")\n                else :\n                    if n%5==0:\n                        print(\"Divisible by 5\\n\")",
      "metadata": {
        "trusted": true
      },
      "execution_count": 46,
      "outputs": [
        {
          "ename": "<class 'SyntaxError'>",
          "evalue": "invalid syntax (<ipython-input-46-70e7d83b608a>, line 6)",
          "traceback": [
            "\u001b[0;36m  Cell \u001b[0;32mIn[46], line 6\u001b[0;36m\u001b[0m\n\u001b[0;31m    else :\u001b[0m\n\u001b[0m    ^\u001b[0m\n\u001b[0;31mSyntaxError\u001b[0m\u001b[0;31m:\u001b[0m invalid syntax\n"
          ],
          "output_type": "error"
        }
      ]
    },
    {
      "cell_type": "code",
      "source": "f(5)",
      "metadata": {
        "trusted": true
      },
      "execution_count": 43,
      "outputs": []
    },
    {
      "cell_type": "code",
      "source": "f(20)",
      "metadata": {
        "trusted": true
      },
      "execution_count": 44,
      "outputs": []
    },
    {
      "cell_type": "code",
      "source": "print(\"LATEX \"*11)",
      "metadata": {
        "trusted": true
      },
      "execution_count": 47,
      "outputs": [
        {
          "name": "stdout",
          "text": "LATEX LATEX LATEX LATEX LATEX LATEX LATEX LATEX LATEX LATEX LATEX \n",
          "output_type": "stream"
        }
      ]
    },
    {
      "cell_type": "code",
      "source": "print(\"MATLAB \"*11)",
      "metadata": {
        "trusted": true
      },
      "execution_count": 48,
      "outputs": [
        {
          "name": "stdout",
          "text": "MATLAB MATLAB MATLAB MATLAB MATLAB MATLAB MATLAB MATLAB MATLAB MATLAB MATLAB \n",
          "output_type": "stream"
        }
      ]
    },
    {
      "cell_type": "code",
      "source": "def simpsons13(f,a,b,n):\n    h=float(b-a)/n\n    \n    result=f(a)+f(b)\n    \n    for i in range(1,n):\n        k=a+i*h\n        \n        if i%2==0:\n            result=result+2*f(k)\n        else:\n            result=result+2*f(k)\n            \n    result=(h/3)*result\n            \n    return (result)\nfrom math import*\ndef f(x):\n    return sin(x)\nsimpsons13(f,0,3.142,6)",
      "metadata": {
        "trusted": true
      },
      "execution_count": 1,
      "outputs": [
        {
          "execution_count": 1,
          "output_type": "execute_result",
          "data": {
            "text/plain": "1.3027234619213461"
          },
          "metadata": {}
        }
      ]
    },
    {
      "cell_type": "code",
      "source": "def simpsons13(f,a,b,n):\n    h=float(b-a)/n\n    \n    result=f(a)+f(b)\n    \n    for i in range(1,n):\n        k=a+i*h\n        \n        if i%2==0:\n            result=result+2*f(k)\n        else:\n            result=result+2*f(k)\n            \n    result=(h/3)*result\n    \n    return(result)\nfrom math import*\ndef f(x):\n    return sin(2)*(3.142*x)\nsimpsons13(f,0,3.142,6)",
      "metadata": {
        "trusted": true
      },
      "execution_count": 2,
      "outputs": [
        {
          "execution_count": 2,
          "output_type": "execute_result",
          "data": {
            "text/plain": "9.401632032994781"
          },
          "metadata": {}
        }
      ]
    },
    {
      "cell_type": "code",
      "source": "def simpsons38(f,a,b,n):\n    h=float(b-a)/n\n    \n    result=f(a)+f(b)\n    \n    for i in range(1,n):\n        k=a+i*h\n        \n        if i%3==0:\n            result=result+2*h\n        else:\n            result=result+3*h\n            \n    result=(3*h/8)*result\n    \n    return(result)\nfrom math import*\ndef f(x):\n    return e**x**2\nsimpsons38(f,0,3,6)",
      "metadata": {
        "trusted": true
      },
      "execution_count": 5,
      "outputs": [
        {
          "execution_count": 5,
          "output_type": "execute_result",
          "data": {
            "text/plain": "1520.8282364203837"
          },
          "metadata": {}
        }
      ]
    },
    {
      "cell_type": "code",
      "source": "def simpsons38(f,a,b,n):\n    h=float(b-a)/n\n    \n    result=f(a)+f(b)\n    \n    for i in range(1,n):\n        k=a+i*h\n        \n        if i%3==0:\n            result=result+2*h\n        else:\n            result=result+3*h\n            \n    result=(3*h/8)*result\n    \n    return (result)\nfrom math import*\ndef f(x):\n    return e**x**2\nsimpsons38(f,0,3,6)",
      "metadata": {
        "trusted": true
      },
      "execution_count": 6,
      "outputs": [
        {
          "execution_count": 6,
          "output_type": "execute_result",
          "data": {
            "text/plain": "1520.8282364203837"
          },
          "metadata": {}
        }
      ]
    },
    {
      "cell_type": "code",
      "source": "def trapezoidal(f,a,b,n):\n    h=float(b-a)/n\n    \n    result=f(a)+f(b)\n    \n    for i in range(1,n):\n        result=result+2*f(a+i*h)\n        \n    result=(h/2)*result\n        \n    return (result)\nfrom math import*\ndef f(x):\n    return x**2\ntrapezoidal(f,0,2,10)",
      "metadata": {
        "trusted": true
      },
      "execution_count": 11,
      "outputs": [
        {
          "execution_count": 11,
          "output_type": "execute_result",
          "data": {
            "text/plain": "2.6800000000000006"
          },
          "metadata": {}
        }
      ]
    },
    {
      "cell_type": "code",
      "source": "def trapezoidal(f,a,b,n):\n    h=float(b-a)/n\n    \n    result=f(a)+f(b)\n    \n    for i in range(1,n):\n        result=result+2*f(a+i*h)\n        \n    result=(h/2)*result\n    \n    return(result)\nfrom math import*\ndef f(x):\n    return sin(x)\ntrapezoidal(f,1,6,10)",
      "metadata": {
        "trusted": true
      },
      "execution_count": 12,
      "outputs": [
        {
          "execution_count": 12,
          "output_type": "execute_result",
          "data": {
            "text/plain": "-0.4110840659990651"
          },
          "metadata": {}
        }
      ]
    },
    {
      "cell_type": "code",
      "source": "for i in range(7  ,1000  ,  7):\n    print(i  ,end=\" \")",
      "metadata": {
        "trusted": true
      },
      "execution_count": 9,
      "outputs": [
        {
          "name": "stdout",
          "text": "7 14 21 28 35 42 49 56 63 70 77 84 91 98 105 112 119 126 133 140 147 154 161 168 175 182 189 196 203 210 217 224 231 238 245 252 259 266 273 280 287 294 301 308 315 322 329 336 343 350 357 364 371 378 385 392 399 406 413 420 427 434 441 448 455 462 469 476 483 490 497 504 511 518 525 532 539 546 553 560 567 574 581 588 595 602 609 616 623 630 637 644 651 658 665 672 679 686 693 700 707 714 721 728 735 742 749 756 763 770 777 784 791 798 805 812 819 826 833 840 847 854 861 868 875 882 889 896 903 910 917 924 931 938 945 952 959 966 973 980 987 994 ",
          "output_type": "stream"
        }
      ]
    },
    {
      "cell_type": "code",
      "source": "",
      "metadata": {},
      "execution_count": null,
      "outputs": []
    },
    {
      "cell_type": "code",
      "source": "",
      "metadata": {},
      "execution_count": null,
      "outputs": []
    }
  ]
}