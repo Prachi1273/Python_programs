{
  "metadata": {
    "language_info": {
      "codemirror_mode": {
        "name": "python",
        "version": 3
      },
      "file_extension": ".py",
      "mimetype": "text/x-python",
      "name": "python",
      "nbconvert_exporter": "python",
      "pygments_lexer": "ipython3",
      "version": "3.8"
    },
    "kernelspec": {
      "name": "python",
      "display_name": "Python (Pyodide)",
      "language": "python"
    }
  },
  "nbformat_minor": 4,
  "nbformat": 4,
  "cells": [
    {
      "cell_type": "code",
      "source": "#Name : Prachi Barve\n# sybcs008\n#Practical No. 05 : 2D transformation for shearing",
      "metadata": {
        "trusted": true
      },
      "execution_count": 1,
      "outputs": []
    },
    {
      "cell_type": "code",
      "source": "from sympy import *",
      "metadata": {
        "trusted": true
      },
      "execution_count": 2,
      "outputs": []
    },
    {
      "cell_type": "code",
      "source": "#Q.1 Apply each of the following transformation on the points P(4,3)\nP=Point(4,3)",
      "metadata": {
        "trusted": true
      },
      "execution_count": 3,
      "outputs": []
    },
    {
      "cell_type": "code",
      "source": "#1.Shearing in y direction by 3 units\nP.transform(Matrix([[1,0,0],[3,1,0],[0,0,1]]))",
      "metadata": {
        "trusted": true
      },
      "execution_count": 4,
      "outputs": [
        {
          "execution_count": 4,
          "output_type": "execute_result",
          "data": {
            "text/plain": "Point2D(13, 3)",
            "text/latex": "$\\displaystyle \\operatorname{Point2D}\\left(13, 3\\right)$"
          },
          "metadata": {}
        }
      ]
    },
    {
      "cell_type": "code",
      "source": "#2.Shearing in both x and y direction by -3 and 1 units \nP.transform(Matrix([[1,-3,0],[1,1,0],[0,0,1]]))",
      "metadata": {
        "trusted": true
      },
      "execution_count": 5,
      "outputs": [
        {
          "execution_count": 5,
          "output_type": "execute_result",
          "data": {
            "text/plain": "Point2D(7, -9)",
            "text/latex": "$\\displaystyle \\operatorname{Point2D}\\left(7, -9\\right)$"
          },
          "metadata": {}
        }
      ]
    },
    {
      "cell_type": "code",
      "source": "#Q.2 Apply each of the following transformation on the points P(-2,4)\nP=Point(-2,4)",
      "metadata": {
        "trusted": true
      },
      "execution_count": 6,
      "outputs": []
    },
    {
      "cell_type": "code",
      "source": "#1.Shearing in y direction by 7 units\nP.transform(Matrix([[1,0,0],[7,1,0],[0,0,1]]))",
      "metadata": {
        "trusted": true
      },
      "execution_count": 7,
      "outputs": [
        {
          "execution_count": 7,
          "output_type": "execute_result",
          "data": {
            "text/plain": "Point2D(26, 4)",
            "text/latex": "$\\displaystyle \\operatorname{Point2D}\\left(26, 4\\right)$"
          },
          "metadata": {}
        }
      ]
    },
    {
      "cell_type": "code",
      "source": "#2.Shearing in both x and y direction by 4 and 7 units \nP.transform(Matrix([[1,4,0],[7,1,0],[0,0,1]]))",
      "metadata": {
        "trusted": true
      },
      "execution_count": 8,
      "outputs": [
        {
          "execution_count": 8,
          "output_type": "execute_result",
          "data": {
            "text/plain": "Point2D(26, -4)",
            "text/latex": "$\\displaystyle \\operatorname{Point2D}\\left(26, -4\\right)$"
          },
          "metadata": {}
        }
      ]
    },
    {
      "cell_type": "code",
      "source": "#Q.3 If line with points A[1,2],B[4,-1] is transformed by the transformation matrix \n#T = [[1,2],[2,1]] thus find the equation of transformed line matrix of reflection \n#in python wll be 3. here for reflection will be [[1,2,0],[2,1,0],[0,0,1]].\nA=Point(2,1)\nB=Point(4,-1)\nA1=A.transform(Matrix([[1,2,0],[2,1,0],[0,0,1]]))\nB1=B.transform(Matrix([[1,2,0],[2,1,0],[0,0,1]]))\nL=Line(A1,B1)\nL.equation()",
      "metadata": {
        "trusted": true
      },
      "execution_count": 10,
      "outputs": [
        {
          "execution_count": 10,
          "output_type": "execute_result",
          "data": {
            "text/plain": "-2*x - 2*y + 18",
            "text/latex": "$\\displaystyle - 2 x - 2 y + 18$"
          },
          "metadata": {}
        }
      ]
    },
    {
      "cell_type": "code",
      "source": "#Q.4 If line with points A[1,1],B[-4,-1] is transformed by the transformation matrix \n#T = [[1,-2],[-2,1]] thus find the equation of transformed line matrix of reflection \n#in python wll be 3. here for reflection will be [[1,-2,0],[-2,1,0],[0,0,1]].\nA=Point(1,1)\nB=Point(-4,-1)\nA1=A.transform(Matrix([[1,-2,0],[-2,1,0],[0,0,1]]))\nB1=B.transform(Matrix([[1,-2,0],[-2,1,0],[0,0,1]]))\nL=Segment(A1,B1)\nL.points",
      "metadata": {
        "trusted": true
      },
      "execution_count": 12,
      "outputs": [
        {
          "execution_count": 12,
          "output_type": "execute_result",
          "data": {
            "text/plain": "(Point2D(-1, -1), Point2D(-2, 7))"
          },
          "metadata": {}
        }
      ]
    },
    {
      "cell_type": "code",
      "source": "",
      "metadata": {},
      "execution_count": null,
      "outputs": []
    }
  ]
}