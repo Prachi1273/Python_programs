{
 "cells": [
  {
   "cell_type": "code",
   "execution_count": 5,
   "id": "af8a14b0",
   "metadata": {},
   "outputs": [
    {
     "name": "stdout",
     "output_type": "stream",
     "text": [
      "\n",
      "97\n",
      "23\n",
      "62.0\n",
      "66.0\n",
      "range :  74\n",
      "iqr : 32.0\n"
     ]
    }
   ],
   "source": [
    "import numpy as np\n",
    "\n",
    "data=np.array([[23,56,78],[97,76,42]])\n",
    "print()\n",
    "\n",
    "print(data.max())\n",
    "\n",
    "print(data.min())\n",
    "\n",
    "print(np.mean(data))\n",
    "\n",
    "print(np.median(data))\n",
    "print('range : ',np.max(data)-np.min(data))\n",
    "\n",
    "q3,q1=np.percentile(data,[75,25])\n",
    "iqr=q3-q1\n",
    "print('iqr :',iqr)"
   ]
  },
  {
   "cell_type": "code",
   "execution_count": 8,
   "id": "37d8f99b",
   "metadata": {},
   "outputs": [
    {
     "name": "stdout",
     "output_type": "stream",
     "text": [
      "11.18\n"
     ]
    }
   ],
   "source": [
    "\n",
    "#euclidian dist\n",
    "import pandas as pd\n",
    "import numpy as np\n",
    "\n",
    "a=pd.Series([1,2,3,4,5])\n",
    "b=pd.Series([6,7,8,9,10])\n",
    "dist=(np.linalg.norm(a-b))\n",
    "print(dist.round(2))"
   ]
  },
  {
   "cell_type": "code",
   "execution_count": null,
   "id": "95a8db23",
   "metadata": {},
   "outputs": [],
   "source": []
  }
 ],
 "metadata": {
  "kernelspec": {
   "display_name": "Python 3 (ipykernel)",
   "language": "python",
   "name": "python3"
  },
  "language_info": {
   "codemirror_mode": {
    "name": "ipython",
    "version": 3
   },
   "file_extension": ".py",
   "mimetype": "text/x-python",
   "name": "python",
   "nbconvert_exporter": "python",
   "pygments_lexer": "ipython3",
   "version": "3.11.4"
  }
 },
 "nbformat": 4,
 "nbformat_minor": 5
}
