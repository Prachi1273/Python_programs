{
 "cells": [
  {
   "cell_type": "code",
   "execution_count": 1,
   "id": "61096bdd",
   "metadata": {},
   "outputs": [],
   "source": [
    "#Name = Prachi Barve\n",
    "#Tybsc06\n",
    "#Assignment 3"
   ]
  },
  {
   "cell_type": "code",
   "execution_count": 2,
   "id": "84d43f48",
   "metadata": {},
   "outputs": [],
   "source": [
    "#Set A"
   ]
  },
  {
   "cell_type": "code",
   "execution_count": 3,
   "id": "3f79bf1e",
   "metadata": {},
   "outputs": [],
   "source": [
    "# List"
   ]
  },
  {
   "cell_type": "code",
   "execution_count": 4,
   "id": "b14db0fd",
   "metadata": {},
   "outputs": [
    {
     "name": "stdout",
     "output_type": "stream",
     "text": [
      "15\n"
     ]
    }
   ],
   "source": [
    "# 1\n",
    "my_list = [1, 2, 3, 4, 5] \n",
    "total = sum(my_list) \n",
    "print(total)"
   ]
  },
  {
   "cell_type": "code",
   "execution_count": 5,
   "id": "4bb91bf6",
   "metadata": {},
   "outputs": [
    {
     "name": "stdout",
     "output_type": "stream",
     "text": [
      "120\n"
     ]
    }
   ],
   "source": [
    "# 2\n",
    "import math \n",
    "my_list = [1, 2, 3, 4, 5] \n",
    "product = math.prod(my_list)\n",
    "print(product)"
   ]
  },
  {
   "cell_type": "code",
   "execution_count": 6,
   "id": "776fae08",
   "metadata": {},
   "outputs": [
    {
     "name": "stdout",
     "output_type": "stream",
     "text": [
      "[(2, 1), (1, 2), (2, 3), (4, 4), (2, 5)]\n"
     ]
    }
   ],
   "source": [
    "# 3\n",
    "def last(n): \n",
    "    return n[-1]  \n",
    "  \n",
    "def sort_list(tuples): \n",
    "    return sorted(tuples, key=last) \n",
    "  \n",
    "a = [(2, 5), (1, 2), (4, 4), (2, 3), (2, 1)]\n",
    "\n",
    "print(sort_list(a))"
   ]
  },
  {
   "cell_type": "code",
   "execution_count": 7,
   "id": "343e3929",
   "metadata": {},
   "outputs": [],
   "source": [
    "# tuples"
   ]
  },
  {
   "cell_type": "code",
   "execution_count": 8,
   "id": "e43ab372",
   "metadata": {},
   "outputs": [
    {
     "name": "stdout",
     "output_type": "stream",
     "text": [
      "('red', 'green', 'blue', 'yellow', 'black')\n"
     ]
    }
   ],
   "source": [
    "# 1\n",
    "t = ('red', 'green', 'blue', 'yellow', 'black')\n",
    "\n",
    "print(t)"
   ]
  },
  {
   "cell_type": "code",
   "execution_count": 9,
   "id": "ca52dc3d",
   "metadata": {},
   "outputs": [
    {
     "name": "stdout",
     "output_type": "stream",
     "text": [
      "(1, 3.14, 'hello', True, [1, 2, 3], {'name': 'Alice', 'age': 25})\n"
     ]
    }
   ],
   "source": [
    "# 2\n",
    "t = (1, 3.14, 'hello', True, [1, 2, 3], {'name': 'Alice', 'age': 25})\n",
    "\n",
    "print(t)"
   ]
  },
  {
   "cell_type": "code",
   "execution_count": 10,
   "id": "2b520751",
   "metadata": {},
   "outputs": [
    {
     "name": "stdout",
     "output_type": "stream",
     "text": [
      "3 is in the tuple\n",
      "6 is not in the tuple\n"
     ]
    }
   ],
   "source": [
    "# 3\n",
    "t = (1, 2, 3, 4, 5)\n",
    "\n",
    "x = 3\n",
    "y = 6\n",
    "\n",
    "if x in t:\n",
    "    print(x, \"is in the tuple\")\n",
    "else:\n",
    "    print(x, \"is not in the tuple\")\n",
    "    \n",
    "if y in t:\n",
    "    print(y, \"is in the tuple\")\n",
    "else:\n",
    "    print(y, \"is not in the tuple\")"
   ]
  },
  {
   "cell_type": "code",
   "execution_count": 11,
   "id": "f1538ae8",
   "metadata": {},
   "outputs": [],
   "source": [
    "# set"
   ]
  },
  {
   "cell_type": "code",
   "execution_count": 12,
   "id": "f204a8bf",
   "metadata": {},
   "outputs": [
    {
     "name": "stdout",
     "output_type": "stream",
     "text": [
      "{1, 2, 3, 4}\n",
      "{1, 2, 3, 4}\n",
      "{'h', 'o', 'e', 'l'}\n"
     ]
    }
   ],
   "source": [
    "# 1.\n",
    "s = {1, 2, 3, 4}\n",
    "print(s)\n",
    "\n",
    "s = set([1, 2, 3, 4])\n",
    "print(s)\n",
    "\n",
    "s = set('hello')\n",
    "print(s)"
   ]
  },
  {
   "cell_type": "code",
   "execution_count": 13,
   "id": "0a833d8f",
   "metadata": {},
   "outputs": [
    {
     "name": "stdout",
     "output_type": "stream",
     "text": [
      "a\n",
      "e\n",
      "b\n",
      "d\n",
      "c\n"
     ]
    }
   ],
   "source": [
    "# 2\n",
    "char_set = {'a', 'b', 'c', 'd', 'e'}\n",
    "\n",
    "for char in char_set:\n",
    "    print(char)\n"
   ]
  },
  {
   "cell_type": "code",
   "execution_count": 14,
   "id": "30e6fc54",
   "metadata": {},
   "outputs": [
    {
     "name": "stdout",
     "output_type": "stream",
     "text": [
      "\n",
      "Original sets:\n",
      "{1, 2, 3, 4, 5}\n",
      "{1, 5, 6, 7, 8, 9}\n",
      "\n",
      "Difference of setn1 - setn2:\n",
      "{2, 3, 4}\n",
      "\n",
      "Difference of setn2 - setn1:\n",
      "{8, 9, 6, 7}\n"
     ]
    }
   ],
   "source": [
    "# 3\n",
    "setn1 = set([1, 1, 2, 3, 4, 5])\n",
    "setn2 = set([1, 5, 6, 7, 8, 9])\n",
    "print(\"\\nOriginal sets:\")\n",
    "print(setn1)\n",
    "print(setn2)\n",
    "r1 = setn1.difference(setn2)\n",
    "print(\"\\nDifference of setn1 - setn2:\")\n",
    "print(r1)\n",
    "r2 = setn2.difference(setn1)\n",
    "print(\"\\nDifference of setn2 - setn1:\")\n",
    "print(r2)"
   ]
  },
  {
   "cell_type": "code",
   "execution_count": 15,
   "id": "34933c83",
   "metadata": {},
   "outputs": [],
   "source": [
    "# Dictionary "
   ]
  },
  {
   "cell_type": "code",
   "execution_count": 16,
   "id": "8d873835",
   "metadata": {},
   "outputs": [
    {
     "name": "stdout",
     "output_type": "stream",
     "text": [
      "Original dictionary:  {'A': 3, 'B': 1, 'C': 10, 'D': 2}\n",
      "Sorted dictionary:  {}\n",
      "{'B': 1, 'D': 2, 'A': 3, 'C': 10}\n"
     ]
    }
   ],
   "source": [
    "# 1\n",
    "dic= {'A': 3, 'B': 1, 'C': 10, 'D': 2}\n",
    "\n",
    "sorted_dic= {}\n",
    "sorted_keys = sorted(dic, key=dic.get) \n",
    "\n",
    "print(\"Original dictionary: \",dic)\n",
    "print(\"Sorted dictionary: \", sorted_dic)\n",
    "for i in sorted_keys:\n",
    "    sorted_dic[i] = dic[i]\n",
    "\n",
    "print(sorted_dic)"
   ]
  },
  {
   "cell_type": "code",
   "execution_count": 17,
   "id": "7daaa1c8",
   "metadata": {},
   "outputs": [
    {
     "name": "stdout",
     "output_type": "stream",
     "text": [
      "{'red': 1}\n",
      "update by passing dictionary\n",
      "{'red': 1, 'orange': 2, 'yellow': 3}\n"
     ]
    }
   ],
   "source": [
    "# 2\n",
    "rainbow = {'red': 1}\n",
    "print(rainbow)\n",
    "new_key_values_dict = {'orange': 2, 'yellow': 3}\n",
    "rainbow.update(new_key_values_dict)\n",
    "print(\"update by passing dictionary\")\n",
    "print(rainbow)"
   ]
  },
  {
   "cell_type": "code",
   "execution_count": 18,
   "id": "22da04b7",
   "metadata": {
    "scrolled": true
   },
   "outputs": [
    {
     "name": "stdout",
     "output_type": "stream",
     "text": [
      "a juice\n",
      "b grill\n",
      "c corn\n",
      "d pizza\n"
     ]
    }
   ],
   "source": [
    "# 3\n",
    "dt = {'a': 'juice', 'b': 'grill', 'c': 'corn', 'd': 'pizza'}\n",
    "\n",
    "for key, value in dt.items():\n",
    "    print(key, value)"
   ]
  },
  {
   "cell_type": "code",
   "execution_count": 19,
   "id": "6bf81887",
   "metadata": {},
   "outputs": [],
   "source": [
    "# Set B"
   ]
  },
  {
   "cell_type": "code",
   "execution_count": 23,
   "id": "3a48216c",
   "metadata": {},
   "outputs": [
    {
     "name": "stdout",
     "output_type": "stream",
     "text": [
      "List before removing duplicates =  [1, 2, 3, 4, 3, 2]\n",
      "Updated List after removing duplicates = [1, 2, 3, 4]\n"
     ]
    }
   ],
   "source": [
    "# 1\n",
    "ints_list = [1, 2, 3, 4, 3, 2]\n",
    "print( 'List before removing duplicates = ',ints_list)\n",
    "temp = []\n",
    "\n",
    "for x in ints_list:\n",
    "    if x not in temp:\n",
    "        temp.append(x)\n",
    "\n",
    "ints_list = temp\n",
    "\n",
    "print(f'Updated List after removing duplicates = {temp}')"
   ]
  },
  {
   "cell_type": "code",
   "execution_count": 24,
   "id": "984411e2",
   "metadata": {},
   "outputs": [
    {
     "name": "stdout",
     "output_type": "stream",
     "text": [
      "the list is empty\n"
     ]
    }
   ],
   "source": [
    "# 2\n",
    "my_list = []\n",
    "if not my_list:\n",
    "    print(\"the list is empty\")"
   ]
  },
  {
   "cell_type": "code",
   "execution_count": 25,
   "id": "e2222a8c",
   "metadata": {},
   "outputs": [],
   "source": [
    "# Tuples"
   ]
  },
  {
   "cell_type": "code",
   "execution_count": 26,
   "id": "17dced4a",
   "metadata": {},
   "outputs": [
    {
     "data": {
      "text/plain": [
       "(4, 5, 6, 7)"
      ]
     },
     "execution_count": 26,
     "metadata": {},
     "output_type": "execute_result"
    }
   ],
   "source": [
    "# 1\n",
    "l = [4,5,6,7]\n",
    "tuple(l)"
   ]
  },
  {
   "cell_type": "code",
   "execution_count": 36,
   "id": "0860b0d1",
   "metadata": {},
   "outputs": [
    {
     "name": "stdout",
     "output_type": "stream",
     "text": [
      "('p', 3, 'y', 't', 'h', 'o', 'n', 5)\n",
      "('p', 'y', 't', 'h', 'o', 'n', 5)\n"
     ]
    }
   ],
   "source": [
    "# 2\n",
    "tuplex = (\"p\", 3, \"y\", \"t\", \"h\", \"o\", \"n\", 5)\n",
    "print(tuplex)\n",
    "\n",
    "listx = list(tuplex) \n",
    "listx.remove(3) \n",
    "tuplex = tuple(listx)\n",
    "print(tuplex)"
   ]
  },
  {
   "cell_type": "code",
   "execution_count": 2,
   "id": "05d10c5d",
   "metadata": {},
   "outputs": [
    {
     "name": "stdout",
     "output_type": "stream",
     "text": [
      "(2, 4, 3, 5, 4, 6, 7, 8, 6, 1)\n",
      "(5, 4)\n",
      "(2, 4, 3, 5, 4, 6)\n"
     ]
    }
   ],
   "source": [
    "# 3\n",
    "tuplex = (2, 4, 3, 5, 4, 6, 7, 8, 6, 1)\n",
    "print(tuplex)\n",
    "_slice = tuplex[3:5]\n",
    "print(_slice)\n",
    "_slice = tuplex[:6]\n",
    "print(_slice)"
   ]
  },
  {
   "cell_type": "code",
   "execution_count": 3,
   "id": "ee0c4fac",
   "metadata": {},
   "outputs": [
    {
     "name": "stdout",
     "output_type": "stream",
     "text": [
      "('p', 'y', 't', 'h', 'o', 'n', ' ', 'c', 'o', 'd', 'e')\n",
      "11\n"
     ]
    }
   ],
   "source": [
    "# 4\n",
    "tuplex = tuple(\"python code\")\n",
    "print(tuplex)\n",
    "print(len(tuplex))"
   ]
  },
  {
   "cell_type": "code",
   "execution_count": 4,
   "id": "a7c984b0",
   "metadata": {},
   "outputs": [],
   "source": [
    "# set"
   ]
  },
  {
   "cell_type": "code",
   "execution_count": 5,
   "id": "98d358fe",
   "metadata": {},
   "outputs": [
    {
     "name": "stdout",
     "output_type": "stream",
     "text": [
      "True\n"
     ]
    }
   ],
   "source": [
    "# 1\n",
    "A = {1, 2, 3}\n",
    "B = {1, 2, 3, 4, 5}\n",
    "\n",
    "print(A.issubset(B))\n"
   ]
  },
  {
   "cell_type": "code",
   "execution_count": 6,
   "id": "bc653de7",
   "metadata": {},
   "outputs": [
    {
     "name": "stdout",
     "output_type": "stream",
     "text": [
      "Original set elements:\n",
      "{2, 3, 20, 5, 10, 15}\n",
      "\n",
      "Maximum value of the said set:\n",
      "20\n",
      "\n",
      "Minimum value of the said set:\n",
      "2\n"
     ]
    }
   ],
   "source": [
    "# 2\n",
    "setn = {5, 10, 3, 15, 2, 20}\n",
    "print(\"Original set elements:\")\n",
    "print(setn)\n",
    "print(\"\\nMaximum value of the said set:\")\n",
    "print(max(setn))\n",
    "print(\"\\nMinimum value of the said set:\")\n",
    "print(min(setn))"
   ]
  },
  {
   "cell_type": "code",
   "execution_count": 7,
   "id": "b6331009",
   "metadata": {},
   "outputs": [
    {
     "name": "stdout",
     "output_type": "stream",
     "text": [
      "Original set elements:\n",
      "{2, 3, 20, 5, 10, 15}\n",
      "\n",
      "Length of the set:\n",
      "6\n"
     ]
    }
   ],
   "source": [
    "# 3 \n",
    "setn = {5, 10, 3, 15, 2, 20}\n",
    "print(\"Original set elements:\")\n",
    "print(setn)\n",
    "print(\"\\nLength of the set:\")\n",
    "print(len(setn))"
   ]
  },
  {
   "cell_type": "code",
   "execution_count": 8,
   "id": "bc31e3eb",
   "metadata": {},
   "outputs": [],
   "source": [
    "# Dictionary "
   ]
  },
  {
   "cell_type": "code",
   "execution_count": 9,
   "id": "85e583ae",
   "metadata": {},
   "outputs": [
    {
     "name": "stdout",
     "output_type": "stream",
     "text": [
      "Input a number 7\n",
      "{1: 1, 2: 4, 3: 9, 4: 16, 5: 25, 6: 36, 7: 49}\n"
     ]
    }
   ],
   "source": [
    "# 1\n",
    "n=int(input(\"Input a number \"))\n",
    "d = dict()\n",
    "\n",
    "for x in range(1,n+1):\n",
    "    d[x]=x*x\n",
    "\n",
    "print(d) "
   ]
  },
  {
   "cell_type": "code",
   "execution_count": 10,
   "id": "f549e4e1",
   "metadata": {},
   "outputs": [
    {
     "name": "stdout",
     "output_type": "stream",
     "text": [
      "{'a': 100, 'b': 200, 'x': 300, 'y': 200}\n"
     ]
    }
   ],
   "source": [
    "# 2\n",
    "d1 = {'a': 100, 'b': 200}\n",
    "d2 = {'x': 300, 'y': 200}\n",
    "d = d1.copy()\n",
    "d.update(d2)\n",
    "print(d)"
   ]
  },
  {
   "cell_type": "code",
   "execution_count": 11,
   "id": "4286663f",
   "metadata": {},
   "outputs": [
    {
     "name": "stdout",
     "output_type": "stream",
     "text": [
      "{'x': 'red', 'y': 'Yellow', 'z': 'Green'}\n"
     ]
    }
   ],
   "source": [
    "# 3\n",
    "class dictObj(object):\n",
    "     def __init__(self):\n",
    "         self.x = 'red'\n",
    "         self.y = 'Yellow'\n",
    "         self.z = 'Green'\n",
    "     def do_nothing(self):\n",
    "         pass\n",
    "test = dictObj()\n",
    "print(test.__dict__)"
   ]
  }
 ],
 "metadata": {
  "kernelspec": {
   "display_name": "Python 3 (ipykernel)",
   "language": "python",
   "name": "python3"
  },
  "language_info": {
   "codemirror_mode": {
    "name": "ipython",
    "version": 3
   },
   "file_extension": ".py",
   "mimetype": "text/x-python",
   "name": "python",
   "nbconvert_exporter": "python",
   "pygments_lexer": "ipython3",
   "version": "3.11.4"
  }
 },
 "nbformat": 4,
 "nbformat_minor": 5
}
