{
 "cells": [
  {
   "cell_type": "code",
   "execution_count": 1,
   "id": "1e2d803b",
   "metadata": {},
   "outputs": [],
   "source": [
    "#Name = Prachi Barve\n",
    "#Tybsc06\n",
    "#Assignment 4"
   ]
  },
  {
   "cell_type": "code",
   "execution_count": 2,
   "id": "7987aaf2",
   "metadata": {},
   "outputs": [],
   "source": [
    "# Set A"
   ]
  },
  {
   "cell_type": "code",
   "execution_count": 3,
   "id": "79c0fbca",
   "metadata": {},
   "outputs": [
    {
     "name": "stdout",
     "output_type": "stream",
     "text": [
      "Python programming\n",
      "It is very easy language \n"
     ]
    }
   ],
   "source": [
    "# 1\n",
    "def file_read(fname):\n",
    "        txt = open(fname)\n",
    "        print(txt.read())\n",
    "\n",
    "file_read('test.txt')"
   ]
  },
  {
   "cell_type": "code",
   "execution_count": 5,
   "id": "10015c27",
   "metadata": {},
   "outputs": [
    {
     "name": "stdout",
     "output_type": "stream",
     "text": [
      "Python programming\n",
      "It is very easy language \n",
      "Line count 2\n",
      "Word count 7\n",
      "Character count 44\n"
     ]
    }
   ],
   "source": [
    "# 2\n",
    "fname = \"test.txt\"\n",
    "\n",
    "num_lines = 0\n",
    "num_words = 0\n",
    "num_chars = 0\n",
    "\n",
    "with open(fname, 'r') as f:\n",
    "    for line in f:\n",
    "        words = line.split()\n",
    "\n",
    "        num_lines += 1\n",
    "        num_words += len(words)\n",
    "        num_chars += len(line)\n",
    "        \n",
    "txt = open(fname)\n",
    "print(txt.read())\n",
    "print(\"Line count\",num_lines)\n",
    "print(\"Word count\",num_words)\n",
    "print(\"Character count\",num_chars)"
   ]
  },
  {
   "cell_type": "code",
   "execution_count": 6,
   "id": "6a8adefb",
   "metadata": {},
   "outputs": [
    {
     "name": "stdout",
     "output_type": "stream",
     "text": [
      "Mon Oct 30 21:56:15 India Standard Time 2023\n"
     ]
    }
   ],
   "source": [
    "# 3\n",
    "import time\n",
    "ltime=time.localtime()\n",
    "print(time.strftime(\"%a %b %d %H:%M:%S %Z %Y\",ltime))"
   ]
  },
  {
   "cell_type": "code",
   "execution_count": 7,
   "id": "5a6a8004",
   "metadata": {},
   "outputs": [],
   "source": [
    "# Set B"
   ]
  },
  {
   "cell_type": "code",
   "execution_count": 8,
   "id": "91672615",
   "metadata": {},
   "outputs": [
    {
     "name": "stdout",
     "output_type": "stream",
     "text": [
      "Python Exercises\n",
      "Java Exercises\n"
     ]
    }
   ],
   "source": [
    "# 1\n",
    "def file_read(fname):\n",
    "        from itertools import islice\n",
    "        with open(fname, \"w\") as myfile:\n",
    "                myfile.write(\"Python Exercises\\n\")\n",
    "                myfile.write(\"Java Exercises\")\n",
    "        txt = open(fname)\n",
    "        print(txt.read())\n",
    "file_read('test.txt')"
   ]
  },
  {
   "cell_type": "code",
   "execution_count": 33,
   "id": "6bcfa315",
   "metadata": {},
   "outputs": [
    {
     "name": "stdout",
     "output_type": "stream",
     "text": [
      " sesicrexE avaJs\n"
     ]
    }
   ],
   "source": [
    "# 2\n",
    "input_file=open('test.txt','r')\n",
    "for line in input_file:\n",
    "    l=len(line)\n",
    "    s=' '\n",
    "while(l>=0):\n",
    "    s=s+line[l-1]\n",
    "    l=l-1\n",
    "print(s)\n",
    "input_file.close() "
   ]
  },
  {
   "cell_type": "code",
   "execution_count": 35,
   "id": "b8c5a63f",
   "metadata": {},
   "outputs": [
    {
     "name": "stdout",
     "output_type": "stream",
     "text": [
      "Today's date: 2023-10-30\n",
      "2023-10-30 22:21:51.841284\n"
     ]
    }
   ],
   "source": [
    "# 3\n",
    "import datetime\n",
    "\n",
    "today = date.today()\n",
    "print(\"Today's date:\", today)\n",
    "now = datetime.datetime.now()\n",
    "print(now)"
   ]
  }
 ],
 "metadata": {
  "kernelspec": {
   "display_name": "Python 3 (ipykernel)",
   "language": "python",
   "name": "python3"
  },
  "language_info": {
   "codemirror_mode": {
    "name": "ipython",
    "version": 3
   },
   "file_extension": ".py",
   "mimetype": "text/x-python",
   "name": "python",
   "nbconvert_exporter": "python",
   "pygments_lexer": "ipython3",
   "version": "3.11.4"
  }
 },
 "nbformat": 4,
 "nbformat_minor": 5
}
